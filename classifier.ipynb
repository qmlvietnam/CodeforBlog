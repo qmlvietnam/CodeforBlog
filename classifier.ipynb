{
  "nbformat": 4,
  "nbformat_minor": 0,
  "metadata": {
    "colab": {
      "provenance": []
    },
    "kernelspec": {
      "name": "python3",
      "display_name": "Python 3"
    },
    "language_info": {
      "name": "python"
    }
  },
  "cells": [
    {
      "cell_type": "markdown",
      "source": [
        "<h1 align=\"center\">Quantum Squared-Distance Classifier </h1> \n",
        "<div align=\"center\"> This code is based on the work done in https://github.com/Brotherhood94/quantum_distance_based_classifier </div>\n"
      ],
      "metadata": {
        "id": "Fniyx4nSZDgy"
      }
    },
    {
      "cell_type": "markdown",
      "source": [
        "# Install qiskit"
      ],
      "metadata": {
        "id": "4fAzcDeKcJIc"
      }
    },
    {
      "cell_type": "code",
      "execution_count": 1,
      "metadata": {
        "colab": {
          "base_uri": "https://localhost:8080/"
        },
        "id": "xtFHSWH0Y5zi",
        "outputId": "7069aa54-d000-47d3-b047-1bf440eb7c5b"
      },
      "outputs": [
        {
          "output_type": "stream",
          "name": "stdout",
          "text": [
            "Looking in indexes: https://pypi.org/simple, https://us-python.pkg.dev/colab-wheels/public/simple/\n",
            "Collecting qiskit\n",
            "  Downloading qiskit-0.39.0.tar.gz (13 kB)\n",
            "Collecting qiskit-terra==0.22.0\n",
            "  Downloading qiskit_terra-0.22.0-cp37-cp37m-manylinux_2_17_x86_64.manylinux2014_x86_64.whl (4.7 MB)\n",
            "\u001b[K     |████████████████████████████████| 4.7 MB 6.8 MB/s \n",
            "\u001b[?25hCollecting qiskit-aer==0.11.0\n",
            "  Downloading qiskit_aer-0.11.0-cp37-cp37m-manylinux_2_17_x86_64.manylinux2014_x86_64.whl (19.2 MB)\n",
            "\u001b[K     |████████████████████████████████| 19.2 MB 1.2 MB/s \n",
            "\u001b[?25hCollecting qiskit-ibmq-provider==0.19.2\n",
            "  Downloading qiskit_ibmq_provider-0.19.2-py3-none-any.whl (240 kB)\n",
            "\u001b[K     |████████████████████████████████| 240 kB 41.9 MB/s \n",
            "\u001b[?25hRequirement already satisfied: numpy>=1.16.3 in /usr/local/lib/python3.7/dist-packages (from qiskit-aer==0.11.0->qiskit) (1.21.6)\n",
            "Requirement already satisfied: scipy>=1.0 in /usr/local/lib/python3.7/dist-packages (from qiskit-aer==0.11.0->qiskit) (1.7.3)\n",
            "Requirement already satisfied: requests>=2.19 in /usr/local/lib/python3.7/dist-packages (from qiskit-ibmq-provider==0.19.2->qiskit) (2.23.0)\n",
            "Requirement already satisfied: python-dateutil>=2.8.0 in /usr/local/lib/python3.7/dist-packages (from qiskit-ibmq-provider==0.19.2->qiskit) (2.8.2)\n",
            "Requirement already satisfied: urllib3>=1.21.1 in /usr/local/lib/python3.7/dist-packages (from qiskit-ibmq-provider==0.19.2->qiskit) (1.24.3)\n",
            "Collecting websockets>=10.0\n",
            "  Downloading websockets-10.4-cp37-cp37m-manylinux_2_5_x86_64.manylinux1_x86_64.manylinux_2_17_x86_64.manylinux2014_x86_64.whl (106 kB)\n",
            "\u001b[K     |████████████████████████████████| 106 kB 49.1 MB/s \n",
            "\u001b[?25hCollecting websocket-client>=1.0.1\n",
            "  Downloading websocket_client-1.4.1-py3-none-any.whl (55 kB)\n",
            "\u001b[K     |████████████████████████████████| 55 kB 3.1 MB/s \n",
            "\u001b[?25hCollecting requests-ntlm>=1.1.0\n",
            "  Downloading requests_ntlm-1.1.0-py2.py3-none-any.whl (5.7 kB)\n",
            "Collecting ply>=3.10\n",
            "  Downloading ply-3.11-py2.py3-none-any.whl (49 kB)\n",
            "\u001b[K     |████████████████████████████████| 49 kB 5.2 MB/s \n",
            "\u001b[?25hCollecting stevedore>=3.0.0\n",
            "  Downloading stevedore-3.5.2-py3-none-any.whl (50 kB)\n",
            "\u001b[K     |████████████████████████████████| 50 kB 6.5 MB/s \n",
            "\u001b[?25hRequirement already satisfied: importlib-metadata<5.0 in /usr/local/lib/python3.7/dist-packages (from qiskit-terra==0.22.0->qiskit) (4.13.0)\n",
            "Requirement already satisfied: dill>=0.3 in /usr/local/lib/python3.7/dist-packages (from qiskit-terra==0.22.0->qiskit) (0.3.5.1)\n",
            "Requirement already satisfied: sympy>=1.3 in /usr/local/lib/python3.7/dist-packages (from qiskit-terra==0.22.0->qiskit) (1.7.1)\n",
            "Collecting retworkx>=0.11.0\n",
            "  Downloading retworkx-0.12.0-py3-none-any.whl (10 kB)\n",
            "Collecting tweedledum<2.0,>=1.1\n",
            "  Downloading tweedledum-1.1.1-cp37-cp37m-manylinux_2_12_x86_64.manylinux2010_x86_64.whl (943 kB)\n",
            "\u001b[K     |████████████████████████████████| 943 kB 67.6 MB/s \n",
            "\u001b[?25hCollecting shared-memory38\n",
            "  Downloading shared_memory38-0.1.2-cp37-cp37m-manylinux_2_5_x86_64.manylinux1_x86_64.whl (25 kB)\n",
            "Collecting symengine>=0.9\n",
            "  Downloading symengine-0.9.2-cp37-cp37m-manylinux2010_x86_64.whl (37.5 MB)\n",
            "\u001b[K     |████████████████████████████████| 37.5 MB 1.2 MB/s \n",
            "\u001b[?25hRequirement already satisfied: typing-extensions in /usr/local/lib/python3.7/dist-packages (from qiskit-terra==0.22.0->qiskit) (4.1.1)\n",
            "Requirement already satisfied: psutil>=5 in /usr/local/lib/python3.7/dist-packages (from qiskit-terra==0.22.0->qiskit) (5.4.8)\n",
            "Requirement already satisfied: zipp>=0.5 in /usr/local/lib/python3.7/dist-packages (from importlib-metadata<5.0->qiskit-terra==0.22.0->qiskit) (3.9.0)\n",
            "Requirement already satisfied: six>=1.5 in /usr/local/lib/python3.7/dist-packages (from python-dateutil>=2.8.0->qiskit-ibmq-provider==0.19.2->qiskit) (1.15.0)\n",
            "Requirement already satisfied: chardet<4,>=3.0.2 in /usr/local/lib/python3.7/dist-packages (from requests>=2.19->qiskit-ibmq-provider==0.19.2->qiskit) (3.0.4)\n",
            "Requirement already satisfied: certifi>=2017.4.17 in /usr/local/lib/python3.7/dist-packages (from requests>=2.19->qiskit-ibmq-provider==0.19.2->qiskit) (2022.9.24)\n",
            "Requirement already satisfied: idna<3,>=2.5 in /usr/local/lib/python3.7/dist-packages (from requests>=2.19->qiskit-ibmq-provider==0.19.2->qiskit) (2.10)\n",
            "Collecting cryptography>=1.3\n",
            "  Downloading cryptography-38.0.1-cp36-abi3-manylinux_2_24_x86_64.whl (4.0 MB)\n",
            "\u001b[K     |████████████████████████████████| 4.0 MB 41.5 MB/s \n",
            "\u001b[?25hCollecting ntlm-auth>=1.0.2\n",
            "  Downloading ntlm_auth-1.5.0-py2.py3-none-any.whl (29 kB)\n",
            "Requirement already satisfied: cffi>=1.12 in /usr/local/lib/python3.7/dist-packages (from cryptography>=1.3->requests-ntlm>=1.1.0->qiskit-ibmq-provider==0.19.2->qiskit) (1.15.1)\n",
            "Requirement already satisfied: pycparser in /usr/local/lib/python3.7/dist-packages (from cffi>=1.12->cryptography>=1.3->requests-ntlm>=1.1.0->qiskit-ibmq-provider==0.19.2->qiskit) (2.21)\n",
            "Collecting rustworkx==0.12.0\n",
            "  Downloading rustworkx-0.12.0-cp37-cp37m-manylinux_2_17_x86_64.manylinux2014_x86_64.whl (1.9 MB)\n",
            "\u001b[K     |████████████████████████████████| 1.9 MB 43.8 MB/s \n",
            "\u001b[?25hCollecting pbr!=2.1.0,>=2.0.0\n",
            "  Downloading pbr-5.11.0-py2.py3-none-any.whl (112 kB)\n",
            "\u001b[K     |████████████████████████████████| 112 kB 71.5 MB/s \n",
            "\u001b[?25hRequirement already satisfied: mpmath>=0.19 in /usr/local/lib/python3.7/dist-packages (from sympy>=1.3->qiskit-terra==0.22.0->qiskit) (1.2.1)\n",
            "Building wheels for collected packages: qiskit\n",
            "  Building wheel for qiskit (setup.py) ... \u001b[?25l\u001b[?25hdone\n",
            "  Created wheel for qiskit: filename=qiskit-0.39.0-py3-none-any.whl size=12188 sha256=2eaf08e55fe14a07ada156641d48ecccf6ca20ef0e3733515b5fe2bead4a258d\n",
            "  Stored in directory: /root/.cache/pip/wheels/63/d0/9a/257143dfc211b1732e1dadf41f281d477251d9cc0108a6f209\n",
            "Successfully built qiskit\n",
            "Installing collected packages: rustworkx, pbr, tweedledum, symengine, stevedore, shared-memory38, retworkx, ply, ntlm-auth, cryptography, websockets, websocket-client, requests-ntlm, qiskit-terra, qiskit-ibmq-provider, qiskit-aer, qiskit\n",
            "Successfully installed cryptography-38.0.1 ntlm-auth-1.5.0 pbr-5.11.0 ply-3.11 qiskit-0.39.0 qiskit-aer-0.11.0 qiskit-ibmq-provider-0.19.2 qiskit-terra-0.22.0 requests-ntlm-1.1.0 retworkx-0.12.0 rustworkx-0.12.0 shared-memory38-0.1.2 stevedore-3.5.2 symengine-0.9.2 tweedledum-1.1.1 websocket-client-1.4.1 websockets-10.4\n"
          ]
        }
      ],
      "source": [
        "!pip install qiskit"
      ]
    },
    {
      "cell_type": "markdown",
      "source": [
        "# Import Packages"
      ],
      "metadata": {
        "id": "cA3e-SIbcGTI"
      }
    },
    {
      "cell_type": "code",
      "source": [
        "import qiskit\n",
        "import numpy as np\n",
        "import random\n",
        "import math\n",
        "import matplotlib.pyplot as plt\n",
        "from qiskit import QuantumCircuit, QuantumRegister, ClassicalRegister, execute, BasicAer, Aer\n",
        "from qiskit.extensions import Initialize, UnitaryGate\n",
        "from qiskit.visualization import plot_histogram, plot_bloch_multivector, plot_state_city\n",
        "#from qiskit_textbook.tools import random_state, array_to_latex\n"
      ],
      "metadata": {
        "id": "2LoqycXeY-V1"
      },
      "execution_count": 7,
      "outputs": []
    },
    {
      "cell_type": "markdown",
      "source": [
        "# Define Model"
      ],
      "metadata": {
        "id": "41E92C-ycrN6"
      }
    },
    {
      "cell_type": "markdown",
      "source": [
        "This code is closely followed the original [paper](https://arxiv.org/pdf/1703.10793.pdf) rather than the simplified version in my blog. \n",
        "\n",
        "So, you can try to check out the paper if you want to fully understand the code. But, I recommend you first look at the way we implement a quantum algorithm in Python rather than going to details of the design."
      ],
      "metadata": {
        "id": "Y1Oy_SjlgxAu"
      }
    },
    {
      "cell_type": "code",
      "source": [
        "\n",
        "class QDistanceBasedClassifier:\n",
        "    \n",
        "####################################################################\n",
        "    def get_circuit(self):\n",
        "        return self.qc\n",
        "        \n",
        "####################################################################\n",
        "        \n",
        "    def _step_A(self, a):\n",
        "        '''Uniform superposition of ancilla and index qubit'''\n",
        "        self.qc.h(a)\n",
        "        self.qc.barrier()\n",
        "\n",
        "####################################################################\n",
        "\n",
        "    def _step_B(self, alpha, a, b, c):\n",
        "        '''Loading test vector  '''\n",
        "        self.qc.mcry(alpha, a, c[0], None) \n",
        "        self.qc.barrier()\n",
        "        self.qc.x(a)\n",
        "        self.qc.barrier()\n",
        "        self.qc.h(b)\n",
        "        self.qc.barrier()\n",
        "\n",
        "        \n",
        "####################################################################\n",
        "\n",
        "    def _step_C(self, a, b, c):\n",
        "        '''Loading first training vector'''\n",
        "        self.qc.ccx(a,b,c)\n",
        "        self.qc.x(b)\n",
        "        self.qc.barrier()\n",
        "\n",
        "####################################################################\n",
        "        \n",
        "    def _step_D(self, alpha, a, b, c, d):\n",
        "        '''Load second training vector'''\n",
        "        self.qc.mcry(alpha, a[0:]+b[0:], c[0], None) \n",
        "        self.qc.barrier()\n",
        "        self.qc.cx(b, d)\n",
        "        self.qc.barrier()\n",
        "        \n",
        "####################################################################\n",
        "\n",
        "    def _step_F(self, a):\n",
        "        '''Compute distance'''\n",
        "        self.qc.h(a)\n",
        "        self.qc.barrier()\n",
        "        \n",
        "####################################################################\n",
        "\n",
        "    def step_measure(self):\n",
        "        '''Measurements'''\n",
        "        self.qc.measure(self.aqr, self.c_areg)\n",
        "        self.qc.measure(self.cqr, self.c_creg)\n",
        "        \n",
        "####################################################################\n",
        "\n",
        "    def _init_qc(self):\n",
        "        aqr = QuantumRegister(1, name=\"ancilla \")\n",
        "        mqr = QuantumRegister(1, name=\"index qregister \") \n",
        "        iqr = QuantumRegister(1, name=\"data register \")\n",
        "        cqr = QuantumRegister(1, name=\"classes \")\n",
        "\n",
        "        c_areg = ClassicalRegister(1, name=\"classical ancilla \")\n",
        "        c_creg = ClassicalRegister(1, name=\"classical classes \")\n",
        "        \n",
        "        qc = QuantumCircuit(aqr, mqr, iqr, cqr, c_areg, c_creg)\n",
        "        return qc, aqr, mqr, iqr, cqr, c_areg, c_creg\n",
        "    \n",
        "####################################################################\n",
        "\n",
        "    def __init__(self, alpha_tr_1, alpha_test):\n",
        "        self.qc, self.aqr, self.mqr, self.iqr, self.cqr, self.c_areg, self.c_creg = self._init_qc()\n",
        "        \n",
        "        #Uniform superpos of ancilla and index qubits\n",
        "        self._step_A(self.aqr)\n",
        "\n",
        "        #Loading test vector\n",
        "        self._step_B(alpha_test, self.aqr, self.mqr, self.iqr)\n",
        "\n",
        "        #Loading first training vector\n",
        "        self._step_C(self.aqr, self.mqr, self.iqr)\n",
        "\n",
        "        #Load second training vector\n",
        "        self._step_D(alpha_tr_1, self.aqr, self.mqr, self.iqr, self.cqr)\n",
        "\n",
        "        #compute distance\n",
        "        self._step_F(self.aqr)\n",
        "        \n",
        "        self.step_measure() "
      ],
      "metadata": {
        "id": "D_jIQpytZc_t"
      },
      "execution_count": 9,
      "outputs": []
    },
    {
      "cell_type": "markdown",
      "source": [
        "# Drawing Tool"
      ],
      "metadata": {
        "id": "U9NF6P1xeG_p"
      }
    },
    {
      "cell_type": "code",
      "source": [
        "import matplotlib\n",
        "\n",
        "def draw_axes():\n",
        "    # dummy points for zooming out\n",
        "    points = [ [1.3,0], [0,1.3], [-1.3,0], [0,-1.3] ]\n",
        "    # coordinates for the axes\n",
        "    arrows = [ [1.1,0], [0,1.1], [-1.1,0], [0,-1.1] ]\n",
        "\n",
        "    # drawing dummy points\n",
        "    for p in points: matplotlib.pyplot.plot(p[0],p[1]+0.2)\n",
        "    # drawing the axes\n",
        "    for a in arrows: matplotlib.pyplot.arrow(0,0,a[0],a[1],head_width=0.04, head_length=0.08)\n",
        "\n",
        "def draw_unit_circle():\n",
        "    unit_circle= matplotlib.pyplot.Circle((0,0),1,color='black',fill=False)\n",
        "    matplotlib.pyplot.gca().add_patch(unit_circle)\n",
        "\n",
        "def draw_datapoint(x,y, name, marker='o',color='blue'):\n",
        "    matplotlib.pyplot.plot(x,y, marker=marker, markersize=7, color=color)\n",
        "    x2 = 1.15 * x\n",
        "    y2 = 1.15 * y\n",
        "    #matplotlib.pyplot.text(x2,y2,name)\n",
        "\n",
        "def draw_quantum_state(x,y,name, color='blue'):\n",
        "    # shorten the line length to 0.92\n",
        "    # line_length + head_length should be 1\n",
        "    x1 = 0.92 * x\n",
        "    y1 = 0.92 * y\n",
        "    matplotlib.pyplot.arrow(0,0,x1,y1,head_width=0.04,head_length=0.08,color=color)\n",
        "    x2 = 1.15 * x\n",
        "    y2 = 1.15 * y\n",
        "    matplotlib.pyplot.text(x2,y2,name)\n",
        "\n",
        "def draw_qubit():\n",
        "    # draw a figure\n",
        "    matplotlib.pyplot.figure(figsize=(6,6), dpi=60)\n",
        "    # draw the origin\n",
        "    matplotlib.pyplot.plot(0,0,'ro') # a point in red color\n",
        "    # drawing the axes by using one of our predefined functions\n",
        "    draw_axes()\n",
        "    # drawing the unit circle by using one of our predefined functions\n",
        "    draw_unit_circle()\n",
        "    # drawing |0>\n",
        "    matplotlib.pyplot.plot(1,0,\"o\")\n",
        "    matplotlib.pyplot.text(1.05,0.05,\"|0>\")\n",
        "    # drawing |1>\n",
        "    matplotlib.pyplot.plot(0,1,\"o\")\n",
        "    matplotlib.pyplot.text(0.05,1.05,\"|1>\")\n",
        "    # drawing -|0>\n",
        "    matplotlib.pyplot.plot(-1,0,\"o\")\n",
        "    matplotlib.pyplot.text(-1.2,-0.1,\"-|0>\")\n",
        "    # drawing -|1>\n",
        "    matplotlib.pyplot.plot(0,-1,\"o\")\n",
        "    matplotlib.pyplot.text(-0.2,-1.1,\"-|1>\")"
      ],
      "metadata": {
        "id": "dul2dFLVeJoC"
      },
      "execution_count": 11,
      "outputs": []
    },
    {
      "cell_type": "markdown",
      "source": [
        "# Test"
      ],
      "metadata": {
        "id": "q39-7JtHdRWZ"
      }
    },
    {
      "cell_type": "code",
      "source": [
        "test_1 = [0.866, 0.500]   \n",
        "tr_0 = [0.141,0.990] \n",
        "tr_1 = [0.921, 0.390]\n",
        "\n",
        "\n",
        "#Computing the rotation angle\n",
        "alpha_test = np.arctan2(test_1[1], test_1[0])*2\n",
        "alpha_tr_1 = np.arctan2(tr_1[1], tr_1[0])*2\n",
        "print(\"Test Vector's alpha:\", alpha_test)\n",
        "print(\"Training_1 Vector's alpha:\", alpha_tr_1)\n",
        "#using arcatan2 --> Obtain the correct quadrans. Otherwise, with arctan(y/x) you cannot get the correct quadrant\n",
        "#ex: -1.52 can be obtained from (-y/x) and (y/-x)\n",
        "\n",
        "\n",
        "q_distance_based_classifier = QDistanceBasedClassifier(alpha_tr_1, alpha_test)"
      ],
      "metadata": {
        "colab": {
          "base_uri": "https://localhost:8080/"
        },
        "id": "mZcEOqPdZiTq",
        "outputId": "9be7180d-1aba-4533-e59a-734c499a6aa8"
      },
      "execution_count": 10,
      "outputs": [
        {
          "output_type": "stream",
          "name": "stdout",
          "text": [
            "Test Vector's alpha: 1.0472229555399388\n",
            "Training_1 Vector's alpha: 0.801118798109258\n"
          ]
        }
      ]
    },
    {
      "cell_type": "code",
      "source": [
        "q_distance_based_circuit = q_distance_based_classifier.get_circuit()\n",
        "q_distance_based_circuit.draw()"
      ],
      "metadata": {
        "colab": {
          "base_uri": "https://localhost:8080/",
          "height": 618
        },
        "id": "9TMtbZtHZndb",
        "outputId": "a81cc668-0294-45d3-e169-a6961b2b5dc8"
      },
      "execution_count": 13,
      "outputs": [
        {
          "output_type": "execute_result",
          "data": {
            "text/plain": [
              "                    ┌───┐ ░                                           ░ ┌───┐»\n",
              "          ancilla : ┤ H ├─░──────────────────■────────────────────■───░─┤ X ├»\n",
              "                    └───┘ ░                  │                    │   ░ └───┘»\n",
              "  index qregister : ──────░──────────────────┼────────────────────┼───░──────»\n",
              "                          ░ ┌─────────────┐┌─┴─┐┌──────────────┐┌─┴─┐ ░      »\n",
              "    data register : ──────░─┤ Ry(0.52361) ├┤ X ├┤ Ry(-0.52361) ├┤ X ├─░──────»\n",
              "                          ░ └─────────────┘└───┘└──────────────┘└───┘ ░      »\n",
              "          classes : ──────░───────────────────────────────────────────░──────»\n",
              "                          ░                                           ░      »\n",
              "classical ancilla : ═════════════════════════════════════════════════════════»\n",
              "                                                                             »\n",
              "classical classes : ═════════════════════════════════════════════════════════»\n",
              "                                                                             »\n",
              "«                     ░       ░            ░                     »\n",
              "«          ancilla : ─░───────░───■────────░──────────────────■──»\n",
              "«                     ░ ┌───┐ ░   │  ┌───┐ ░                  │  »\n",
              "«  index qregister : ─░─┤ H ├─░───■──┤ X ├─░──────────────────■──»\n",
              "«                     ░ └───┘ ░ ┌─┴─┐└───┘ ░ ┌─────────────┐┌─┴─┐»\n",
              "«    data register : ─░───────░─┤ X ├──────░─┤ Ry(0.40056) ├┤ X ├»\n",
              "«                     ░       ░ └───┘      ░ └─────────────┘└───┘»\n",
              "«          classes : ─░───────░────────────░─────────────────────»\n",
              "«                     ░       ░            ░                     »\n",
              "«classical ancilla : ════════════════════════════════════════════»\n",
              "«                                                                »\n",
              "«classical classes : ════════════════════════════════════════════»\n",
              "«                                                                »\n",
              "«                                          ░       ░ ┌───┐ ░ ┌─┐   \n",
              "«          ancilla : ──────────────────■───░───────░─┤ H ├─░─┤M├───\n",
              "«                                      │   ░       ░ └───┘ ░ └╥┘   \n",
              "«  index qregister : ──────────────────■───░───■───░───────░──╫────\n",
              "«                    ┌──────────────┐┌─┴─┐ ░   │   ░       ░  ║    \n",
              "«    data register : ┤ Ry(-0.40056) ├┤ X ├─░───┼───░───────░──╫────\n",
              "«                    └──────────────┘└───┘ ░ ┌─┴─┐ ░       ░  ║ ┌─┐\n",
              "«          classes : ──────────────────────░─┤ X ├─░───────░──╫─┤M├\n",
              "«                                          ░ └───┘ ░       ░  ║ └╥┘\n",
              "«classical ancilla : ═════════════════════════════════════════╩══╬═\n",
              "«                                                                ║ \n",
              "«classical classes : ════════════════════════════════════════════╩═\n",
              "«                                                                  "
            ],
            "text/html": [
              "<pre style=\"word-wrap: normal;white-space: pre;background: #fff0;line-height: 1.1;font-family: &quot;Courier New&quot;,Courier,monospace\">                    ┌───┐ ░                                           ░ ┌───┐»\n",
              "          ancilla : ┤ H ├─░──────────────────■────────────────────■───░─┤ X ├»\n",
              "                    └───┘ ░                  │                    │   ░ └───┘»\n",
              "  index qregister : ──────░──────────────────┼────────────────────┼───░──────»\n",
              "                          ░ ┌─────────────┐┌─┴─┐┌──────────────┐┌─┴─┐ ░      »\n",
              "    data register : ──────░─┤ Ry(0.52361) ├┤ X ├┤ Ry(-0.52361) ├┤ X ├─░──────»\n",
              "                          ░ └─────────────┘└───┘└──────────────┘└───┘ ░      »\n",
              "          classes : ──────░───────────────────────────────────────────░──────»\n",
              "                          ░                                           ░      »\n",
              "classical ancilla : ═════════════════════════════════════════════════════════»\n",
              "                                                                             »\n",
              "classical classes : ═════════════════════════════════════════════════════════»\n",
              "                                                                             »\n",
              "«                     ░       ░            ░                     »\n",
              "«          ancilla : ─░───────░───■────────░──────────────────■──»\n",
              "«                     ░ ┌───┐ ░   │  ┌───┐ ░                  │  »\n",
              "«  index qregister : ─░─┤ H ├─░───■──┤ X ├─░──────────────────■──»\n",
              "«                     ░ └───┘ ░ ┌─┴─┐└───┘ ░ ┌─────────────┐┌─┴─┐»\n",
              "«    data register : ─░───────░─┤ X ├──────░─┤ Ry(0.40056) ├┤ X ├»\n",
              "«                     ░       ░ └───┘      ░ └─────────────┘└───┘»\n",
              "«          classes : ─░───────░────────────░─────────────────────»\n",
              "«                     ░       ░            ░                     »\n",
              "«classical ancilla : ════════════════════════════════════════════»\n",
              "«                                                                »\n",
              "«classical classes : ════════════════════════════════════════════»\n",
              "«                                                                »\n",
              "«                                          ░       ░ ┌───┐ ░ ┌─┐   \n",
              "«          ancilla : ──────────────────■───░───────░─┤ H ├─░─┤M├───\n",
              "«                                      │   ░       ░ └───┘ ░ └╥┘   \n",
              "«  index qregister : ──────────────────■───░───■───░───────░──╫────\n",
              "«                    ┌──────────────┐┌─┴─┐ ░   │   ░       ░  ║    \n",
              "«    data register : ┤ Ry(-0.40056) ├┤ X ├─░───┼───░───────░──╫────\n",
              "«                    └──────────────┘└───┘ ░ ┌─┴─┐ ░       ░  ║ ┌─┐\n",
              "«          classes : ──────────────────────░─┤ X ├─░───────░──╫─┤M├\n",
              "«                                          ░ └───┘ ░       ░  ║ └╥┘\n",
              "«classical ancilla : ═════════════════════════════════════════╩══╬═\n",
              "«                                                                ║ \n",
              "«classical classes : ════════════════════════════════════════════╩═\n",
              "«                                                                  </pre>"
            ]
          },
          "metadata": {},
          "execution_count": 13
        }
      ]
    },
    {
      "cell_type": "code",
      "source": [
        "draw_qubit()\n",
        "draw_quantum_state(test_1[0],test_1[1],\"test\", color='orange')\n",
        "draw_quantum_state(tr_1[0],tr_1[1],\"training_1\", color='orange')\n",
        "draw_quantum_state(tr_0[0],tr_0[1],\"training_0\", color='orange')"
      ],
      "metadata": {
        "colab": {
          "base_uri": "https://localhost:8080/",
          "height": 315
        },
        "id": "Cse2xesreL7J",
        "outputId": "1ebdc54f-86ce-4132-fb93-e01784310c6b"
      },
      "execution_count": 15,
      "outputs": [
        {
          "output_type": "display_data",
          "data": {
            "text/plain": [
              "<Figure size 360x360 with 1 Axes>"
            ],
            "image/png": "[encoded data removed]"
          },
          "metadata": {
            "needs_background": "light"
          }
        }
      ]
    },
    {
      "cell_type": "markdown",
      "source": [
        "This code allows you to run your quantum circuit on a simulator"
      ],
      "metadata": {
        "id": "PwqWfxMmijO1"
      }
    },
    {
      "cell_type": "code",
      "source": [
        "simulator = Aer.get_backend('qasm_simulator')\n",
        "job = execute(q_distance_based_circuit, simulator, shots=10000)\n",
        "result = job.result()\n",
        "counts = result.get_counts(q_distance_based_circuit)\n",
        "counts = {k: counts[k] for k in counts.keys() & {'0 0', '1 0'}}"
      ],
      "metadata": {
        "id": "zcW83_3Beybg"
      },
      "execution_count": 19,
      "outputs": []
    },
    {
      "cell_type": "code",
      "source": [
        "plot_histogram(counts, title=\"Classes\")"
      ],
      "metadata": {
        "colab": {
          "base_uri": "https://localhost:8080/",
          "height": 351
        },
        "id": "Pao_TqQUfDbB",
        "outputId": "3152953b-fd99-49e7-9681-9c2def8d349c"
      },
      "execution_count": 20,
      "outputs": [
        {
          "output_type": "execute_result",
          "data": {
            "text/plain": [
              "<Figure size 504x360 with 1 Axes>"
            ],
            "image/png": "[encoded data removed]"
          },
          "metadata": {},
          "execution_count": 20
        }
      ]
    },
    {
      "cell_type": "markdown",
      "source": [
        "You can see that p(0) = 3836/10000 = 0.38 and p(1) = 0.49\n",
        "\n",
        "Therefore the Passanger 3 should assign to label 1. "
      ],
      "metadata": {
        "id": "Wiubyw3SfmG4"
      }
    }
  ]
}