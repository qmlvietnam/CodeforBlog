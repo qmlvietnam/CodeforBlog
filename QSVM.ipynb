{
  "nbformat": 4,
  "nbformat_minor": 0,
  "metadata": {
    "colab": {
      "provenance": []
    },
    "kernelspec": {
      "name": "python3",
      "display_name": "Python 3"
    },
    "language_info": {
      "name": "python"
    }
  },
  "cells": [
    {
      "cell_type": "code",
      "execution_count": 1,
      "metadata": {
        "colab": {
          "base_uri": "https://localhost:8080/"
        },
        "id": "ICkqObP9JLK5",
        "outputId": "4a15054b-efe3-42e6-9e46-ab8e3ba477b1"
      },
      "outputs": [
        {
          "output_type": "stream",
          "name": "stdout",
          "text": [
            "Looking in indexes: https://pypi.org/simple, https://us-python.pkg.dev/colab-wheels/public/simple/\n",
            "Requirement already satisfied: qiskit==0.19 in /usr/local/lib/python3.8/dist-packages (0.19.0)\n",
            "Requirement already satisfied: qiskit-aer==0.5.1 in /usr/local/lib/python3.8/dist-packages (from qiskit==0.19) (0.5.1)\n",
            "Requirement already satisfied: qiskit-aqua==0.7.0 in /usr/local/lib/python3.8/dist-packages (from qiskit==0.19) (0.7.0)\n",
            "Requirement already satisfied: qiskit-ignis==0.3.0 in /usr/local/lib/python3.8/dist-packages (from qiskit==0.19) (0.3.0)\n",
            "Requirement already satisfied: qiskit-ibmq-provider==0.7.0 in /usr/local/lib/python3.8/dist-packages (from qiskit==0.19) (0.7.0)\n",
            "Requirement already satisfied: qiskit-terra==0.14.0 in /usr/local/lib/python3.8/dist-packages (from qiskit==0.19) (0.14.0)\n",
            "Requirement already satisfied: numpy>=1.16.3 in /usr/local/lib/python3.8/dist-packages (from qiskit-aer==0.5.1->qiskit==0.19) (1.21.6)\n",
            "Requirement already satisfied: cython>=0.27.1 in /usr/local/lib/python3.8/dist-packages (from qiskit-aer==0.5.1->qiskit==0.19) (0.29.32)\n",
            "Requirement already satisfied: pybind11>=2.4 in /usr/local/lib/python3.8/dist-packages (from qiskit-aer==0.5.1->qiskit==0.19) (2.10.1)\n",
            "Requirement already satisfied: scipy>=1.0 in /usr/local/lib/python3.8/dist-packages (from qiskit-aer==0.5.1->qiskit==0.19) (1.7.3)\n",
            "Requirement already satisfied: fastdtw in /usr/local/lib/python3.8/dist-packages (from qiskit-aqua==0.7.0->qiskit==0.19) (0.3.4)\n",
            "Requirement already satisfied: pyscf in /usr/local/lib/python3.8/dist-packages (from qiskit-aqua==0.7.0->qiskit==0.19) (2.1.1)\n",
            "Requirement already satisfied: psutil>=5 in /usr/local/lib/python3.8/dist-packages (from qiskit-aqua==0.7.0->qiskit==0.19) (5.4.8)\n",
            "Requirement already satisfied: scikit-learn>=0.20.0 in /usr/local/lib/python3.8/dist-packages (from qiskit-aqua==0.7.0->qiskit==0.19) (1.0.2)\n",
            "Requirement already satisfied: sympy>=1.3 in /usr/local/lib/python3.8/dist-packages (from qiskit-aqua==0.7.0->qiskit==0.19) (1.7.1)\n",
            "Requirement already satisfied: dlx in /usr/local/lib/python3.8/dist-packages (from qiskit-aqua==0.7.0->qiskit==0.19) (1.0.4)\n",
            "Requirement already satisfied: quandl in /usr/local/lib/python3.8/dist-packages (from qiskit-aqua==0.7.0->qiskit==0.19) (3.7.0)\n",
            "Requirement already satisfied: setuptools>=40.1.0 in /usr/local/lib/python3.8/dist-packages (from qiskit-aqua==0.7.0->qiskit==0.19) (57.4.0)\n",
            "Requirement already satisfied: h5py in /usr/local/lib/python3.8/dist-packages (from qiskit-aqua==0.7.0->qiskit==0.19) (3.1.0)\n",
            "Requirement already satisfied: docplex in /usr/local/lib/python3.8/dist-packages (from qiskit-aqua==0.7.0->qiskit==0.19) (2.24.232)\n",
            "Requirement already satisfied: networkx>=2.2 in /usr/local/lib/python3.8/dist-packages (from qiskit-aqua==0.7.0->qiskit==0.19) (2.8.8)\n",
            "Requirement already satisfied: websockets<8,>=7 in /usr/local/lib/python3.8/dist-packages (from qiskit-ibmq-provider==0.7.0->qiskit==0.19) (7.0)\n",
            "Requirement already satisfied: requests>=2.19 in /usr/local/lib/python3.8/dist-packages (from qiskit-ibmq-provider==0.7.0->qiskit==0.19) (2.23.0)\n",
            "Requirement already satisfied: requests-ntlm>=1.1.0 in /usr/local/lib/python3.8/dist-packages (from qiskit-ibmq-provider==0.7.0->qiskit==0.19) (1.1.0)\n",
            "Requirement already satisfied: urllib3>=1.21.1 in /usr/local/lib/python3.8/dist-packages (from qiskit-ibmq-provider==0.7.0->qiskit==0.19) (1.24.3)\n",
            "Requirement already satisfied: python-dateutil>=2.8.0 in /usr/local/lib/python3.8/dist-packages (from qiskit-ibmq-provider==0.7.0->qiskit==0.19) (2.8.2)\n",
            "Requirement already satisfied: nest-asyncio!=1.1.0,>=1.0.0 in /usr/local/lib/python3.8/dist-packages (from qiskit-ibmq-provider==0.7.0->qiskit==0.19) (1.5.6)\n",
            "Requirement already satisfied: jsonschema>=2.6 in /usr/local/lib/python3.8/dist-packages (from qiskit-terra==0.14.0->qiskit==0.19) (4.3.3)\n",
            "Requirement already satisfied: ply>=3.10 in /usr/local/lib/python3.8/dist-packages (from qiskit-terra==0.14.0->qiskit==0.19) (3.11)\n",
            "Requirement already satisfied: fastjsonschema>=2.10 in /usr/local/lib/python3.8/dist-packages (from qiskit-terra==0.14.0->qiskit==0.19) (2.16.2)\n",
            "Requirement already satisfied: marshmallow<4,>=3 in /usr/local/lib/python3.8/dist-packages (from qiskit-terra==0.14.0->qiskit==0.19) (3.19.0)\n",
            "Requirement already satisfied: python-constraint>=1.4 in /usr/local/lib/python3.8/dist-packages (from qiskit-terra==0.14.0->qiskit==0.19) (1.4.0)\n",
            "Requirement already satisfied: dill>=0.3 in /usr/local/lib/python3.8/dist-packages (from qiskit-terra==0.14.0->qiskit==0.19) (0.3.6)\n",
            "Requirement already satisfied: marshmallow-polyfield<6,>=5.7 in /usr/local/lib/python3.8/dist-packages (from qiskit-terra==0.14.0->qiskit==0.19) (5.11)\n",
            "Requirement already satisfied: retworkx>=0.3.2 in /usr/local/lib/python3.8/dist-packages (from qiskit-terra==0.14.0->qiskit==0.19) (0.12.1)\n",
            "Requirement already satisfied: attrs>=17.4.0 in /usr/local/lib/python3.8/dist-packages (from jsonschema>=2.6->qiskit-terra==0.14.0->qiskit==0.19) (22.1.0)\n",
            "Requirement already satisfied: importlib-resources>=1.4.0 in /usr/local/lib/python3.8/dist-packages (from jsonschema>=2.6->qiskit-terra==0.14.0->qiskit==0.19) (5.10.1)\n",
            "Requirement already satisfied: pyrsistent!=0.17.0,!=0.17.1,!=0.17.2,>=0.14.0 in /usr/local/lib/python3.8/dist-packages (from jsonschema>=2.6->qiskit-terra==0.14.0->qiskit==0.19) (0.19.2)\n",
            "Requirement already satisfied: zipp>=3.1.0 in /usr/local/lib/python3.8/dist-packages (from importlib-resources>=1.4.0->jsonschema>=2.6->qiskit-terra==0.14.0->qiskit==0.19) (3.11.0)\n",
            "Requirement already satisfied: packaging>=17.0 in /usr/local/lib/python3.8/dist-packages (from marshmallow<4,>=3->qiskit-terra==0.14.0->qiskit==0.19) (21.3)\n",
            "Requirement already satisfied: pyparsing!=3.0.5,>=2.0.2 in /usr/local/lib/python3.8/dist-packages (from packaging>=17.0->marshmallow<4,>=3->qiskit-terra==0.14.0->qiskit==0.19) (3.0.9)\n",
            "Requirement already satisfied: six>=1.5 in /usr/local/lib/python3.8/dist-packages (from python-dateutil>=2.8.0->qiskit-ibmq-provider==0.7.0->qiskit==0.19) (1.15.0)\n",
            "Requirement already satisfied: idna<3,>=2.5 in /usr/local/lib/python3.8/dist-packages (from requests>=2.19->qiskit-ibmq-provider==0.7.0->qiskit==0.19) (2.10)\n",
            "Requirement already satisfied: chardet<4,>=3.0.2 in /usr/local/lib/python3.8/dist-packages (from requests>=2.19->qiskit-ibmq-provider==0.7.0->qiskit==0.19) (3.0.4)\n",
            "Requirement already satisfied: certifi>=2017.4.17 in /usr/local/lib/python3.8/dist-packages (from requests>=2.19->qiskit-ibmq-provider==0.7.0->qiskit==0.19) (2022.12.7)\n",
            "Requirement already satisfied: ntlm-auth>=1.0.2 in /usr/local/lib/python3.8/dist-packages (from requests-ntlm>=1.1.0->qiskit-ibmq-provider==0.7.0->qiskit==0.19) (1.5.0)\n",
            "Requirement already satisfied: cryptography>=1.3 in /usr/local/lib/python3.8/dist-packages (from requests-ntlm>=1.1.0->qiskit-ibmq-provider==0.7.0->qiskit==0.19) (39.0.0)\n",
            "Requirement already satisfied: cffi>=1.12 in /usr/local/lib/python3.8/dist-packages (from cryptography>=1.3->requests-ntlm>=1.1.0->qiskit-ibmq-provider==0.7.0->qiskit==0.19) (1.15.1)\n",
            "Requirement already satisfied: pycparser in /usr/local/lib/python3.8/dist-packages (from cffi>=1.12->cryptography>=1.3->requests-ntlm>=1.1.0->qiskit-ibmq-provider==0.7.0->qiskit==0.19) (2.21)\n",
            "Requirement already satisfied: rustworkx==0.12.1 in /usr/local/lib/python3.8/dist-packages (from retworkx>=0.3.2->qiskit-terra==0.14.0->qiskit==0.19) (0.12.1)\n",
            "Requirement already satisfied: threadpoolctl>=2.0.0 in /usr/local/lib/python3.8/dist-packages (from scikit-learn>=0.20.0->qiskit-aqua==0.7.0->qiskit==0.19) (3.1.0)\n",
            "Requirement already satisfied: joblib>=0.11 in /usr/local/lib/python3.8/dist-packages (from scikit-learn>=0.20.0->qiskit-aqua==0.7.0->qiskit==0.19) (1.2.0)\n",
            "Requirement already satisfied: mpmath>=0.19 in /usr/local/lib/python3.8/dist-packages (from sympy>=1.3->qiskit-aqua==0.7.0->qiskit==0.19) (1.2.1)\n",
            "Requirement already satisfied: more-itertools in /usr/local/lib/python3.8/dist-packages (from quandl->qiskit-aqua==0.7.0->qiskit==0.19) (9.0.0)\n",
            "Requirement already satisfied: pandas>=0.14 in /usr/local/lib/python3.8/dist-packages (from quandl->qiskit-aqua==0.7.0->qiskit==0.19) (1.3.5)\n",
            "Requirement already satisfied: inflection>=0.3.1 in /usr/local/lib/python3.8/dist-packages (from quandl->qiskit-aqua==0.7.0->qiskit==0.19) (0.5.1)\n",
            "Requirement already satisfied: pytz>=2017.3 in /usr/local/lib/python3.8/dist-packages (from pandas>=0.14->quandl->qiskit-aqua==0.7.0->qiskit==0.19) (2022.6)\n"
          ]
        }
      ],
      "source": [
        "!pip install qiskit==0.19"
      ]
    },
    {
      "cell_type": "code",
      "source": [
        "from sklearn import datasets\n",
        "from sklearn.model_selection import train_test_split\n",
        "from sklearn.preprocessing import StandardScaler, MinMaxScaler\n",
        "from sklearn.decomposition import PCA\n",
        "from qiskit import Aer\n",
        "from qiskit.aqua.components.feature_maps import SecondOrderExpansion,FirstOrderExpansion\n",
        "from qiskit.aqua.algorithms import QSVM\n",
        "from qiskit.aqua import QuantumInstance\n",
        "import numpy as np\n",
        "import matplotlib.pyplot as plt"
      ],
      "metadata": {
        "colab": {
          "base_uri": "https://localhost:8080/"
        },
        "id": "dW9iSqI3JN3J",
        "outputId": "4b4ccfdf-34fa-418e-a27e-be0c5df61aba"
      },
      "execution_count": 2,
      "outputs": [
        {
          "output_type": "stream",
          "name": "stderr",
          "text": [
            "/usr/local/lib/python3.8/dist-packages/qiskit/validation/fields/custom.py:76: DeprecationWarning: `np.float` is a deprecated alias for the builtin `float`. To silence this warning, use `float` by itself. Doing this will not modify any behavior and is safe. If you specifically wanted the numpy scalar type, use `np.float64` here.\n",
            "Deprecated in NumPy 1.20; for more details and guidance: https://numpy.org/devdocs/release/1.20.0-notes.html#deprecations\n",
            "  numpy.integer, numpy.float,\n",
            "/usr/local/lib/python3.8/dist-packages/qiskit/quantum_info/operators/pauli.py:111: DeprecationWarning: `np.bool` is a deprecated alias for the builtin `bool`. To silence this warning, use `bool` by itself. Doing this will not modify any behavior and is safe. If you specifically wanted the numpy scalar type, use `np.bool_` here.\n",
            "Deprecated in NumPy 1.20; for more details and guidance: https://numpy.org/devdocs/release/1.20.0-notes.html#deprecations\n",
            "  z = np.zeros(len(label), dtype=np.bool)\n",
            "/usr/local/lib/python3.8/dist-packages/qiskit/quantum_info/operators/pauli.py:112: DeprecationWarning: `np.bool` is a deprecated alias for the builtin `bool`. To silence this warning, use `bool` by itself. Doing this will not modify any behavior and is safe. If you specifically wanted the numpy scalar type, use `np.bool_` here.\n",
            "Deprecated in NumPy 1.20; for more details and guidance: https://numpy.org/devdocs/release/1.20.0-notes.html#deprecations\n",
            "  x = np.zeros(len(label), dtype=np.bool)\n",
            "/usr/local/lib/python3.8/dist-packages/qiskit/quantum_info/operators/pauli.py:34: DeprecationWarning: `np.bool` is a deprecated alias for the builtin `bool`. To silence this warning, use `bool` by itself. Doing this will not modify any behavior and is safe. If you specifically wanted the numpy scalar type, use `np.bool_` here.\n",
            "Deprecated in NumPy 1.20; for more details and guidance: https://numpy.org/devdocs/release/1.20.0-notes.html#deprecations\n",
            "  arr = np.asarray(arr).astype(np.bool)\n",
            "/usr/local/lib/python3.8/dist-packages/qiskit/quantum_info/operators/pauli.py:34: DeprecationWarning: `np.bool` is a deprecated alias for the builtin `bool`. To silence this warning, use `bool` by itself. Doing this will not modify any behavior and is safe. If you specifically wanted the numpy scalar type, use `np.bool_` here.\n",
            "Deprecated in NumPy 1.20; for more details and guidance: https://numpy.org/devdocs/release/1.20.0-notes.html#deprecations\n",
            "  arr = np.asarray(arr).astype(np.bool)\n",
            "/usr/local/lib/python3.8/dist-packages/qiskit/quantum_info/operators/pauli.py:111: DeprecationWarning: `np.bool` is a deprecated alias for the builtin `bool`. To silence this warning, use `bool` by itself. Doing this will not modify any behavior and is safe. If you specifically wanted the numpy scalar type, use `np.bool_` here.\n",
            "Deprecated in NumPy 1.20; for more details and guidance: https://numpy.org/devdocs/release/1.20.0-notes.html#deprecations\n",
            "  z = np.zeros(len(label), dtype=np.bool)\n",
            "/usr/local/lib/python3.8/dist-packages/qiskit/quantum_info/operators/pauli.py:112: DeprecationWarning: `np.bool` is a deprecated alias for the builtin `bool`. To silence this warning, use `bool` by itself. Doing this will not modify any behavior and is safe. If you specifically wanted the numpy scalar type, use `np.bool_` here.\n",
            "Deprecated in NumPy 1.20; for more details and guidance: https://numpy.org/devdocs/release/1.20.0-notes.html#deprecations\n",
            "  x = np.zeros(len(label), dtype=np.bool)\n",
            "/usr/local/lib/python3.8/dist-packages/qiskit/quantum_info/operators/pauli.py:34: DeprecationWarning: `np.bool` is a deprecated alias for the builtin `bool`. To silence this warning, use `bool` by itself. Doing this will not modify any behavior and is safe. If you specifically wanted the numpy scalar type, use `np.bool_` here.\n",
            "Deprecated in NumPy 1.20; for more details and guidance: https://numpy.org/devdocs/release/1.20.0-notes.html#deprecations\n",
            "  arr = np.asarray(arr).astype(np.bool)\n",
            "/usr/local/lib/python3.8/dist-packages/qiskit/quantum_info/operators/pauli.py:34: DeprecationWarning: `np.bool` is a deprecated alias for the builtin `bool`. To silence this warning, use `bool` by itself. Doing this will not modify any behavior and is safe. If you specifically wanted the numpy scalar type, use `np.bool_` here.\n",
            "Deprecated in NumPy 1.20; for more details and guidance: https://numpy.org/devdocs/release/1.20.0-notes.html#deprecations\n",
            "  arr = np.asarray(arr).astype(np.bool)\n",
            "/usr/local/lib/python3.8/dist-packages/qiskit/quantum_info/operators/pauli.py:111: DeprecationWarning: `np.bool` is a deprecated alias for the builtin `bool`. To silence this warning, use `bool` by itself. Doing this will not modify any behavior and is safe. If you specifically wanted the numpy scalar type, use `np.bool_` here.\n",
            "Deprecated in NumPy 1.20; for more details and guidance: https://numpy.org/devdocs/release/1.20.0-notes.html#deprecations\n",
            "  z = np.zeros(len(label), dtype=np.bool)\n",
            "/usr/local/lib/python3.8/dist-packages/qiskit/quantum_info/operators/pauli.py:112: DeprecationWarning: `np.bool` is a deprecated alias for the builtin `bool`. To silence this warning, use `bool` by itself. Doing this will not modify any behavior and is safe. If you specifically wanted the numpy scalar type, use `np.bool_` here.\n",
            "Deprecated in NumPy 1.20; for more details and guidance: https://numpy.org/devdocs/release/1.20.0-notes.html#deprecations\n",
            "  x = np.zeros(len(label), dtype=np.bool)\n",
            "/usr/local/lib/python3.8/dist-packages/qiskit/quantum_info/operators/pauli.py:34: DeprecationWarning: `np.bool` is a deprecated alias for the builtin `bool`. To silence this warning, use `bool` by itself. Doing this will not modify any behavior and is safe. If you specifically wanted the numpy scalar type, use `np.bool_` here.\n",
            "Deprecated in NumPy 1.20; for more details and guidance: https://numpy.org/devdocs/release/1.20.0-notes.html#deprecations\n",
            "  arr = np.asarray(arr).astype(np.bool)\n",
            "/usr/local/lib/python3.8/dist-packages/qiskit/quantum_info/operators/pauli.py:34: DeprecationWarning: `np.bool` is a deprecated alias for the builtin `bool`. To silence this warning, use `bool` by itself. Doing this will not modify any behavior and is safe. If you specifically wanted the numpy scalar type, use `np.bool_` here.\n",
            "Deprecated in NumPy 1.20; for more details and guidance: https://numpy.org/devdocs/release/1.20.0-notes.html#deprecations\n",
            "  arr = np.asarray(arr).astype(np.bool)\n",
            "/usr/local/lib/python3.8/dist-packages/qiskit/quantum_info/operators/pauli.py:111: DeprecationWarning: `np.bool` is a deprecated alias for the builtin `bool`. To silence this warning, use `bool` by itself. Doing this will not modify any behavior and is safe. If you specifically wanted the numpy scalar type, use `np.bool_` here.\n",
            "Deprecated in NumPy 1.20; for more details and guidance: https://numpy.org/devdocs/release/1.20.0-notes.html#deprecations\n",
            "  z = np.zeros(len(label), dtype=np.bool)\n",
            "/usr/local/lib/python3.8/dist-packages/qiskit/quantum_info/operators/pauli.py:112: DeprecationWarning: `np.bool` is a deprecated alias for the builtin `bool`. To silence this warning, use `bool` by itself. Doing this will not modify any behavior and is safe. If you specifically wanted the numpy scalar type, use `np.bool_` here.\n",
            "Deprecated in NumPy 1.20; for more details and guidance: https://numpy.org/devdocs/release/1.20.0-notes.html#deprecations\n",
            "  x = np.zeros(len(label), dtype=np.bool)\n",
            "/usr/local/lib/python3.8/dist-packages/qiskit/quantum_info/operators/pauli.py:34: DeprecationWarning: `np.bool` is a deprecated alias for the builtin `bool`. To silence this warning, use `bool` by itself. Doing this will not modify any behavior and is safe. If you specifically wanted the numpy scalar type, use `np.bool_` here.\n",
            "Deprecated in NumPy 1.20; for more details and guidance: https://numpy.org/devdocs/release/1.20.0-notes.html#deprecations\n",
            "  arr = np.asarray(arr).astype(np.bool)\n",
            "/usr/local/lib/python3.8/dist-packages/qiskit/quantum_info/operators/pauli.py:34: DeprecationWarning: `np.bool` is a deprecated alias for the builtin `bool`. To silence this warning, use `bool` by itself. Doing this will not modify any behavior and is safe. If you specifically wanted the numpy scalar type, use `np.bool_` here.\n",
            "Deprecated in NumPy 1.20; for more details and guidance: https://numpy.org/devdocs/release/1.20.0-notes.html#deprecations\n",
            "  arr = np.asarray(arr).astype(np.bool)\n"
          ]
        }
      ]
    },
    {
      "cell_type": "code",
      "source": [
        "def breast_cancer(training_size, test_size, n, plot_data=False):\n",
        "    \"\"\" returns breast cancer dataset \"\"\"\n",
        "    class_labels = [r'A', r'B']\n",
        "    data, target = datasets.load_breast_cancer(return_X_y=True)\n",
        "    sample_train, sample_test, label_train, label_test = \\\n",
        "        train_test_split(data, target, test_size=0.3, random_state=12)\n",
        "\n",
        "    # Now we standardize for gaussian around 0 with unit variance\n",
        "    std_scale = StandardScaler().fit(sample_train)\n",
        "    sample_train = std_scale.transform(sample_train)\n",
        "    sample_test = std_scale.transform(sample_test)\n",
        "\n",
        "    # Now reduce number of features to number of qubits\n",
        "    pca = PCA(n_components=n).fit(sample_train)\n",
        "    sample_train = pca.transform(sample_train)\n",
        "    sample_test = pca.transform(sample_test)\n",
        "\n",
        "    # Scale to the range (-1,+1)\n",
        "    samples = np.append(sample_train, sample_test, axis=0)\n",
        "    minmax_scale = MinMaxScaler((-1, 1)).fit(samples)\n",
        "    sample_train = minmax_scale.transform(sample_train)\n",
        "    sample_test = minmax_scale.transform(sample_test)\n",
        "\n",
        "    # Pick training size number of samples from each distro\n",
        "    training_input = {key: (sample_train[label_train == k, :])[:training_size]\n",
        "                      for k, key in enumerate(class_labels)}\n",
        "    test_input = {key: (sample_test[label_test == k, :])[:test_size]\n",
        "                  for k, key in enumerate(class_labels)}\n",
        "\n",
        "    if plot_data:\n",
        "        try:\n",
        "            import matplotlib.pyplot as plt\n",
        "        except ImportError:\n",
        "            raise NameError('Matplotlib not installed. Please install it before plotting')\n",
        "        for k in range(0, 2):\n",
        "            plt.scatter(sample_train[label_train == k, 0][:training_size],\n",
        "                        sample_train[label_train == k, 1][:training_size])\n",
        "\n",
        "        plt.title(\"PCA dim. reduced Breast cancer dataset\")\n",
        "        plt.show()\n",
        "\n",
        "    return sample_train, training_input, test_input, class_labels"
      ],
      "metadata": {
        "id": "Cy0sT0dlNucW"
      },
      "execution_count": 3,
      "outputs": []
    },
    {
      "cell_type": "code",
      "source": [
        "\n",
        "feature_dim = 2\n",
        "sample_total, training_input, test_input, class_labels = breast_cancer(\n",
        "    training_size=20,\n",
        "    test_size=10,\n",
        "    n=feature_dim,\n",
        "    plot_data=True\n",
        ")\n"
      ],
      "metadata": {
        "colab": {
          "base_uri": "https://localhost:8080/",
          "height": 281
        },
        "id": "yn90tzVMK9LN",
        "outputId": "932289a2-96c9-4d57-d161-23e98fcc45a1"
      },
      "execution_count": 4,
      "outputs": [
        {
          "output_type": "display_data",
          "data": {
            "text/plain": [
              "<Figure size 432x288 with 1 Axes>"
            ],
            "image/png": "[encoded data removed]"
          },
          "metadata": {
            "needs_background": "light"
          }
        }
      ]
    },
    {
      "cell_type": "code",
      "source": [
        "import matplotlib.pyplot as plt\n",
        "import numpy as np\n",
        "\n",
        "from qiskit import BasicAer\n",
        "from qiskit.circuit.library import ZZFeatureMap\n",
        "from qiskit.aqua import QuantumInstance, aqua_globals\n",
        "from qiskit.aqua.algorithms import QSVM\n",
        "from qiskit.aqua.utils import split_dataset_to_data_and_labels, map_label_to_class_name\n",
        "\n",
        "seed = 10599\n",
        "aqua_globals.random_seed = seed"
      ],
      "metadata": {
        "id": "AcTeooAaNcGf"
      },
      "execution_count": 5,
      "outputs": []
    },
    {
      "cell_type": "code",
      "source": [
        "feature_map = ZZFeatureMap(feature_dimension=feature_dim, reps=2, entanglement='linear')\n",
        "qsvm = QSVM(feature_map, training_input, test_input)\n",
        "\n",
        "backend = BasicAer.get_backend('qasm_simulator')\n",
        "quantum_instance = QuantumInstance(backend, shots=1024, seed_simulator=seed, seed_transpiler=seed)\n",
        "\n",
        "result = qsvm.run(quantum_instance)\n",
        "\n",
        "print(f'Testing success ratio: {result[\"testing_accuracy\"]}')"
      ],
      "metadata": {
        "colab": {
          "base_uri": "https://localhost:8080/"
        },
        "id": "KKgI4_qqN_oC",
        "outputId": "8e65711d-4e00-45f0-c0a1-34d6d9462624"
      },
      "execution_count": 6,
      "outputs": [
        {
          "output_type": "stream",
          "name": "stderr",
          "text": [
            "/usr/local/lib/python3.8/dist-packages/qiskit/aqua/algorithms/classifiers/qsvm/_qsvm_binary.py:82: DeprecationWarning: `np.float` is a deprecated alias for the builtin `float`. To silence this warning, use `float` by itself. Doing this will not modify any behavior and is safe. If you specifically wanted the numpy scalar type, use `np.float64` here.\n",
            "Deprecated in NumPy 1.20; for more details and guidance: https://numpy.org/devdocs/release/1.20.0-notes.html#deprecations\n",
            "  labels = labels.astype(np.float)\n"
          ]
        },
        {
          "output_type": "stream",
          "name": "stdout",
          "text": [
            "Testing success ratio: 0.85\n"
          ]
        }
      ]
    },
    {
      "cell_type": "code",
      "source": [
        "kernel_matrix = result['kernel_matrix_training']\n",
        "img = plt.imshow(np.asmatrix(kernel_matrix),interpolation='nearest',origin='upper',cmap='bone_r')"
      ],
      "metadata": {
        "colab": {
          "base_uri": "https://localhost:8080/",
          "height": 267
        },
        "id": "bHPJCon3ODAx",
        "outputId": "30b036f9-f9a6-464b-c213-24ba08c7402d"
      },
      "execution_count": 7,
      "outputs": [
        {
          "output_type": "display_data",
          "data": {
            "text/plain": [
              "<Figure size 432x288 with 1 Axes>"
            ],
            "image/png": "[encoded data removed]"
          },
          "metadata": {
            "needs_background": "light"
          }
        }
      ]
    },
    {
      "cell_type": "code",
      "source": [
        "from qiskit.aqua.algorithms import SklearnSVM\n",
        "result = SklearnSVM(training_input, test_input).run()\n",
        "\n",
        "print(f'Testing success ratio: {result[\"testing_accuracy\"]}')\n",
        "\n",
        "kernel_matrix = result['kernel_matrix_training']\n",
        "plt.imshow(np.asmatrix(kernel_matrix), interpolation='nearest', origin='upper', cmap='bone_r');"
      ],
      "metadata": {
        "colab": {
          "base_uri": "https://localhost:8080/",
          "height": 1000
        },
        "id": "7bxmT9lzOJqV",
        "outputId": "de370c80-88ae-409e-8a13-c4f3749831ba"
      },
      "execution_count": 8,
      "outputs": [
        {
          "output_type": "stream",
          "name": "stderr",
          "text": [
            "/usr/local/lib/python3.8/dist-packages/qiskit/aqua/algorithms/classifiers/sklearn_svm/_sklearn_svm_binary.py:48: DeprecationWarning: `np.float` is a deprecated alias for the builtin `float`. To silence this warning, use `float` by itself. Doing this will not modify any behavior and is safe. If you specifically wanted the numpy scalar type, use `np.float64` here.\n",
            "Deprecated in NumPy 1.20; for more details and guidance: https://numpy.org/devdocs/release/1.20.0-notes.html#deprecations\n",
            "  labels = labels.astype(np.float)\n",
            "/usr/local/lib/python3.8/dist-packages/qiskit/aqua/algorithms/classifiers/sklearn_svm/_sklearn_svm_binary.py:99: DeprecationWarning: `np.int` is a deprecated alias for the builtin `int`. To silence this warning, use `int` by itself. Doing this will not modify any behavior and is safe. When replacing `np.int`, you may wish to use e.g. `np.int64` or `np.int32` to specify the precision. If you wish to review your current use, check the release note link for additional information.\n",
            "Deprecated in NumPy 1.20; for more details and guidance: https://numpy.org/devdocs/release/1.20.0-notes.html#deprecations\n",
            "  logger.debug('Label should be %s.', self.label_to_class[np.int(labels[tin])])\n",
            "/usr/local/lib/python3.8/dist-packages/qiskit/aqua/algorithms/classifiers/sklearn_svm/_sklearn_svm_binary.py:100: DeprecationWarning: `np.int` is a deprecated alias for the builtin `int`. To silence this warning, use `int` by itself. Doing this will not modify any behavior and is safe. When replacing `np.int`, you may wish to use e.g. `np.int64` or `np.int32` to specify the precision. If you wish to review your current use, check the release note link for additional information.\n",
            "Deprecated in NumPy 1.20; for more details and guidance: https://numpy.org/devdocs/release/1.20.0-notes.html#deprecations\n",
            "  logger.debug('Predicted label is %s.', self.label_to_class[np.int(lsign[tin])])\n",
            "/usr/local/lib/python3.8/dist-packages/qiskit/aqua/algorithms/classifiers/sklearn_svm/_sklearn_svm_binary.py:101: DeprecationWarning: `np.int` is a deprecated alias for the builtin `int`. To silence this warning, use `int` by itself. Doing this will not modify any behavior and is safe. When replacing `np.int`, you may wish to use e.g. `np.int64` or `np.int32` to specify the precision. If you wish to review your current use, check the release note link for additional information.\n",
            "Deprecated in NumPy 1.20; for more details and guidance: https://numpy.org/devdocs/release/1.20.0-notes.html#deprecations\n",
            "  if np.int(labels[tin]) == np.int(lsign[tin]):\n",
            "/usr/local/lib/python3.8/dist-packages/qiskit/aqua/algorithms/classifiers/sklearn_svm/_sklearn_svm_binary.py:101: DeprecationWarning: `np.int` is a deprecated alias for the builtin `int`. To silence this warning, use `int` by itself. Doing this will not modify any behavior and is safe. When replacing `np.int`, you may wish to use e.g. `np.int64` or `np.int32` to specify the precision. If you wish to review your current use, check the release note link for additional information.\n",
            "Deprecated in NumPy 1.20; for more details and guidance: https://numpy.org/devdocs/release/1.20.0-notes.html#deprecations\n",
            "  if np.int(labels[tin]) == np.int(lsign[tin]):\n",
            "/usr/local/lib/python3.8/dist-packages/qiskit/aqua/algorithms/classifiers/sklearn_svm/_sklearn_svm_binary.py:99: DeprecationWarning: `np.int` is a deprecated alias for the builtin `int`. To silence this warning, use `int` by itself. Doing this will not modify any behavior and is safe. When replacing `np.int`, you may wish to use e.g. `np.int64` or `np.int32` to specify the precision. If you wish to review your current use, check the release note link for additional information.\n",
            "Deprecated in NumPy 1.20; for more details and guidance: https://numpy.org/devdocs/release/1.20.0-notes.html#deprecations\n",
            "  logger.debug('Label should be %s.', self.label_to_class[np.int(labels[tin])])\n",
            "/usr/local/lib/python3.8/dist-packages/qiskit/aqua/algorithms/classifiers/sklearn_svm/_sklearn_svm_binary.py:100: DeprecationWarning: `np.int` is a deprecated alias for the builtin `int`. To silence this warning, use `int` by itself. Doing this will not modify any behavior and is safe. When replacing `np.int`, you may wish to use e.g. `np.int64` or `np.int32` to specify the precision. If you wish to review your current use, check the release note link for additional information.\n",
            "Deprecated in NumPy 1.20; for more details and guidance: https://numpy.org/devdocs/release/1.20.0-notes.html#deprecations\n",
            "  logger.debug('Predicted label is %s.', self.label_to_class[np.int(lsign[tin])])\n",
            "/usr/local/lib/python3.8/dist-packages/qiskit/aqua/algorithms/classifiers/sklearn_svm/_sklearn_svm_binary.py:101: DeprecationWarning: `np.int` is a deprecated alias for the builtin `int`. To silence this warning, use `int` by itself. Doing this will not modify any behavior and is safe. When replacing `np.int`, you may wish to use e.g. `np.int64` or `np.int32` to specify the precision. If you wish to review your current use, check the release note link for additional information.\n",
            "Deprecated in NumPy 1.20; for more details and guidance: https://numpy.org/devdocs/release/1.20.0-notes.html#deprecations\n",
            "  if np.int(labels[tin]) == np.int(lsign[tin]):\n",
            "/usr/local/lib/python3.8/dist-packages/qiskit/aqua/algorithms/classifiers/sklearn_svm/_sklearn_svm_binary.py:101: DeprecationWarning: `np.int` is a deprecated alias for the builtin `int`. To silence this warning, use `int` by itself. Doing this will not modify any behavior and is safe. When replacing `np.int`, you may wish to use e.g. `np.int64` or `np.int32` to specify the precision. If you wish to review your current use, check the release note link for additional information.\n",
            "Deprecated in NumPy 1.20; for more details and guidance: https://numpy.org/devdocs/release/1.20.0-notes.html#deprecations\n",
            "  if np.int(labels[tin]) == np.int(lsign[tin]):\n",
            "/usr/local/lib/python3.8/dist-packages/qiskit/aqua/algorithms/classifiers/sklearn_svm/_sklearn_svm_binary.py:99: DeprecationWarning: `np.int` is a deprecated alias for the builtin `int`. To silence this warning, use `int` by itself. Doing this will not modify any behavior and is safe. When replacing `np.int`, you may wish to use e.g. `np.int64` or `np.int32` to specify the precision. If you wish to review your current use, check the release note link for additional information.\n",
            "Deprecated in NumPy 1.20; for more details and guidance: https://numpy.org/devdocs/release/1.20.0-notes.html#deprecations\n",
            "  logger.debug('Label should be %s.', self.label_to_class[np.int(labels[tin])])\n",
            "/usr/local/lib/python3.8/dist-packages/qiskit/aqua/algorithms/classifiers/sklearn_svm/_sklearn_svm_binary.py:100: DeprecationWarning: `np.int` is a deprecated alias for the builtin `int`. To silence this warning, use `int` by itself. Doing this will not modify any behavior and is safe. When replacing `np.int`, you may wish to use e.g. `np.int64` or `np.int32` to specify the precision. If you wish to review your current use, check the release note link for additional information.\n",
            "Deprecated in NumPy 1.20; for more details and guidance: https://numpy.org/devdocs/release/1.20.0-notes.html#deprecations\n",
            "  logger.debug('Predicted label is %s.', self.label_to_class[np.int(lsign[tin])])\n",
            "/usr/local/lib/python3.8/dist-packages/qiskit/aqua/algorithms/classifiers/sklearn_svm/_sklearn_svm_binary.py:101: DeprecationWarning: `np.int` is a deprecated alias for the builtin `int`. To silence this warning, use `int` by itself. Doing this will not modify any behavior and is safe. When replacing `np.int`, you may wish to use e.g. `np.int64` or `np.int32` to specify the precision. If you wish to review your current use, check the release note link for additional information.\n",
            "Deprecated in NumPy 1.20; for more details and guidance: https://numpy.org/devdocs/release/1.20.0-notes.html#deprecations\n",
            "  if np.int(labels[tin]) == np.int(lsign[tin]):\n",
            "/usr/local/lib/python3.8/dist-packages/qiskit/aqua/algorithms/classifiers/sklearn_svm/_sklearn_svm_binary.py:101: DeprecationWarning: `np.int` is a deprecated alias for the builtin `int`. To silence this warning, use `int` by itself. Doing this will not modify any behavior and is safe. When replacing `np.int`, you may wish to use e.g. `np.int64` or `np.int32` to specify the precision. If you wish to review your current use, check the release note link for additional information.\n",
            "Deprecated in NumPy 1.20; for more details and guidance: https://numpy.org/devdocs/release/1.20.0-notes.html#deprecations\n",
            "  if np.int(labels[tin]) == np.int(lsign[tin]):\n",
            "/usr/local/lib/python3.8/dist-packages/qiskit/aqua/algorithms/classifiers/sklearn_svm/_sklearn_svm_binary.py:99: DeprecationWarning: `np.int` is a deprecated alias for the builtin `int`. To silence this warning, use `int` by itself. Doing this will not modify any behavior and is safe. When replacing `np.int`, you may wish to use e.g. `np.int64` or `np.int32` to specify the precision. If you wish to review your current use, check the release note link for additional information.\n",
            "Deprecated in NumPy 1.20; for more details and guidance: https://numpy.org/devdocs/release/1.20.0-notes.html#deprecations\n",
            "  logger.debug('Label should be %s.', self.label_to_class[np.int(labels[tin])])\n",
            "/usr/local/lib/python3.8/dist-packages/qiskit/aqua/algorithms/classifiers/sklearn_svm/_sklearn_svm_binary.py:100: DeprecationWarning: `np.int` is a deprecated alias for the builtin `int`. To silence this warning, use `int` by itself. Doing this will not modify any behavior and is safe. When replacing `np.int`, you may wish to use e.g. `np.int64` or `np.int32` to specify the precision. If you wish to review your current use, check the release note link for additional information.\n",
            "Deprecated in NumPy 1.20; for more details and guidance: https://numpy.org/devdocs/release/1.20.0-notes.html#deprecations\n",
            "  logger.debug('Predicted label is %s.', self.label_to_class[np.int(lsign[tin])])\n",
            "/usr/local/lib/python3.8/dist-packages/qiskit/aqua/algorithms/classifiers/sklearn_svm/_sklearn_svm_binary.py:101: DeprecationWarning: `np.int` is a deprecated alias for the builtin `int`. To silence this warning, use `int` by itself. Doing this will not modify any behavior and is safe. When replacing `np.int`, you may wish to use e.g. `np.int64` or `np.int32` to specify the precision. If you wish to review your current use, check the release note link for additional information.\n",
            "Deprecated in NumPy 1.20; for more details and guidance: https://numpy.org/devdocs/release/1.20.0-notes.html#deprecations\n",
            "  if np.int(labels[tin]) == np.int(lsign[tin]):\n",
            "/usr/local/lib/python3.8/dist-packages/qiskit/aqua/algorithms/classifiers/sklearn_svm/_sklearn_svm_binary.py:101: DeprecationWarning: `np.int` is a deprecated alias for the builtin `int`. To silence this warning, use `int` by itself. Doing this will not modify any behavior and is safe. When replacing `np.int`, you may wish to use e.g. `np.int64` or `np.int32` to specify the precision. If you wish to review your current use, check the release note link for additional information.\n",
            "Deprecated in NumPy 1.20; for more details and guidance: https://numpy.org/devdocs/release/1.20.0-notes.html#deprecations\n",
            "  if np.int(labels[tin]) == np.int(lsign[tin]):\n",
            "/usr/local/lib/python3.8/dist-packages/qiskit/aqua/algorithms/classifiers/sklearn_svm/_sklearn_svm_binary.py:99: DeprecationWarning: `np.int` is a deprecated alias for the builtin `int`. To silence this warning, use `int` by itself. Doing this will not modify any behavior and is safe. When replacing `np.int`, you may wish to use e.g. `np.int64` or `np.int32` to specify the precision. If you wish to review your current use, check the release note link for additional information.\n",
            "Deprecated in NumPy 1.20; for more details and guidance: https://numpy.org/devdocs/release/1.20.0-notes.html#deprecations\n",
            "  logger.debug('Label should be %s.', self.label_to_class[np.int(labels[tin])])\n",
            "/usr/local/lib/python3.8/dist-packages/qiskit/aqua/algorithms/classifiers/sklearn_svm/_sklearn_svm_binary.py:100: DeprecationWarning: `np.int` is a deprecated alias for the builtin `int`. To silence this warning, use `int` by itself. Doing this will not modify any behavior and is safe. When replacing `np.int`, you may wish to use e.g. `np.int64` or `np.int32` to specify the precision. If you wish to review your current use, check the release note link for additional information.\n",
            "Deprecated in NumPy 1.20; for more details and guidance: https://numpy.org/devdocs/release/1.20.0-notes.html#deprecations\n",
            "  logger.debug('Predicted label is %s.', self.label_to_class[np.int(lsign[tin])])\n",
            "/usr/local/lib/python3.8/dist-packages/qiskit/aqua/algorithms/classifiers/sklearn_svm/_sklearn_svm_binary.py:101: DeprecationWarning: `np.int` is a deprecated alias for the builtin `int`. To silence this warning, use `int` by itself. Doing this will not modify any behavior and is safe. When replacing `np.int`, you may wish to use e.g. `np.int64` or `np.int32` to specify the precision. If you wish to review your current use, check the release note link for additional information.\n",
            "Deprecated in NumPy 1.20; for more details and guidance: https://numpy.org/devdocs/release/1.20.0-notes.html#deprecations\n",
            "  if np.int(labels[tin]) == np.int(lsign[tin]):\n",
            "/usr/local/lib/python3.8/dist-packages/qiskit/aqua/algorithms/classifiers/sklearn_svm/_sklearn_svm_binary.py:101: DeprecationWarning: `np.int` is a deprecated alias for the builtin `int`. To silence this warning, use `int` by itself. Doing this will not modify any behavior and is safe. When replacing `np.int`, you may wish to use e.g. `np.int64` or `np.int32` to specify the precision. If you wish to review your current use, check the release note link for additional information.\n",
            "Deprecated in NumPy 1.20; for more details and guidance: https://numpy.org/devdocs/release/1.20.0-notes.html#deprecations\n",
            "  if np.int(labels[tin]) == np.int(lsign[tin]):\n",
            "/usr/local/lib/python3.8/dist-packages/qiskit/aqua/algorithms/classifiers/sklearn_svm/_sklearn_svm_binary.py:99: DeprecationWarning: `np.int` is a deprecated alias for the builtin `int`. To silence this warning, use `int` by itself. Doing this will not modify any behavior and is safe. When replacing `np.int`, you may wish to use e.g. `np.int64` or `np.int32` to specify the precision. If you wish to review your current use, check the release note link for additional information.\n",
            "Deprecated in NumPy 1.20; for more details and guidance: https://numpy.org/devdocs/release/1.20.0-notes.html#deprecations\n",
            "  logger.debug('Label should be %s.', self.label_to_class[np.int(labels[tin])])\n",
            "/usr/local/lib/python3.8/dist-packages/qiskit/aqua/algorithms/classifiers/sklearn_svm/_sklearn_svm_binary.py:100: DeprecationWarning: `np.int` is a deprecated alias for the builtin `int`. To silence this warning, use `int` by itself. Doing this will not modify any behavior and is safe. When replacing `np.int`, you may wish to use e.g. `np.int64` or `np.int32` to specify the precision. If you wish to review your current use, check the release note link for additional information.\n",
            "Deprecated in NumPy 1.20; for more details and guidance: https://numpy.org/devdocs/release/1.20.0-notes.html#deprecations\n",
            "  logger.debug('Predicted label is %s.', self.label_to_class[np.int(lsign[tin])])\n",
            "/usr/local/lib/python3.8/dist-packages/qiskit/aqua/algorithms/classifiers/sklearn_svm/_sklearn_svm_binary.py:101: DeprecationWarning: `np.int` is a deprecated alias for the builtin `int`. To silence this warning, use `int` by itself. Doing this will not modify any behavior and is safe. When replacing `np.int`, you may wish to use e.g. `np.int64` or `np.int32` to specify the precision. If you wish to review your current use, check the release note link for additional information.\n",
            "Deprecated in NumPy 1.20; for more details and guidance: https://numpy.org/devdocs/release/1.20.0-notes.html#deprecations\n",
            "  if np.int(labels[tin]) == np.int(lsign[tin]):\n",
            "/usr/local/lib/python3.8/dist-packages/qiskit/aqua/algorithms/classifiers/sklearn_svm/_sklearn_svm_binary.py:101: DeprecationWarning: `np.int` is a deprecated alias for the builtin `int`. To silence this warning, use `int` by itself. Doing this will not modify any behavior and is safe. When replacing `np.int`, you may wish to use e.g. `np.int64` or `np.int32` to specify the precision. If you wish to review your current use, check the release note link for additional information.\n",
            "Deprecated in NumPy 1.20; for more details and guidance: https://numpy.org/devdocs/release/1.20.0-notes.html#deprecations\n",
            "  if np.int(labels[tin]) == np.int(lsign[tin]):\n",
            "/usr/local/lib/python3.8/dist-packages/qiskit/aqua/algorithms/classifiers/sklearn_svm/_sklearn_svm_binary.py:99: DeprecationWarning: `np.int` is a deprecated alias for the builtin `int`. To silence this warning, use `int` by itself. Doing this will not modify any behavior and is safe. When replacing `np.int`, you may wish to use e.g. `np.int64` or `np.int32` to specify the precision. If you wish to review your current use, check the release note link for additional information.\n",
            "Deprecated in NumPy 1.20; for more details and guidance: https://numpy.org/devdocs/release/1.20.0-notes.html#deprecations\n",
            "  logger.debug('Label should be %s.', self.label_to_class[np.int(labels[tin])])\n",
            "/usr/local/lib/python3.8/dist-packages/qiskit/aqua/algorithms/classifiers/sklearn_svm/_sklearn_svm_binary.py:100: DeprecationWarning: `np.int` is a deprecated alias for the builtin `int`. To silence this warning, use `int` by itself. Doing this will not modify any behavior and is safe. When replacing `np.int`, you may wish to use e.g. `np.int64` or `np.int32` to specify the precision. If you wish to review your current use, check the release note link for additional information.\n",
            "Deprecated in NumPy 1.20; for more details and guidance: https://numpy.org/devdocs/release/1.20.0-notes.html#deprecations\n",
            "  logger.debug('Predicted label is %s.', self.label_to_class[np.int(lsign[tin])])\n",
            "/usr/local/lib/python3.8/dist-packages/qiskit/aqua/algorithms/classifiers/sklearn_svm/_sklearn_svm_binary.py:101: DeprecationWarning: `np.int` is a deprecated alias for the builtin `int`. To silence this warning, use `int` by itself. Doing this will not modify any behavior and is safe. When replacing `np.int`, you may wish to use e.g. `np.int64` or `np.int32` to specify the precision. If you wish to review your current use, check the release note link for additional information.\n",
            "Deprecated in NumPy 1.20; for more details and guidance: https://numpy.org/devdocs/release/1.20.0-notes.html#deprecations\n",
            "  if np.int(labels[tin]) == np.int(lsign[tin]):\n",
            "/usr/local/lib/python3.8/dist-packages/qiskit/aqua/algorithms/classifiers/sklearn_svm/_sklearn_svm_binary.py:101: DeprecationWarning: `np.int` is a deprecated alias for the builtin `int`. To silence this warning, use `int` by itself. Doing this will not modify any behavior and is safe. When replacing `np.int`, you may wish to use e.g. `np.int64` or `np.int32` to specify the precision. If you wish to review your current use, check the release note link for additional information.\n",
            "Deprecated in NumPy 1.20; for more details and guidance: https://numpy.org/devdocs/release/1.20.0-notes.html#deprecations\n",
            "  if np.int(labels[tin]) == np.int(lsign[tin]):\n",
            "/usr/local/lib/python3.8/dist-packages/qiskit/aqua/algorithms/classifiers/sklearn_svm/_sklearn_svm_binary.py:99: DeprecationWarning: `np.int` is a deprecated alias for the builtin `int`. To silence this warning, use `int` by itself. Doing this will not modify any behavior and is safe. When replacing `np.int`, you may wish to use e.g. `np.int64` or `np.int32` to specify the precision. If you wish to review your current use, check the release note link for additional information.\n",
            "Deprecated in NumPy 1.20; for more details and guidance: https://numpy.org/devdocs/release/1.20.0-notes.html#deprecations\n",
            "  logger.debug('Label should be %s.', self.label_to_class[np.int(labels[tin])])\n",
            "/usr/local/lib/python3.8/dist-packages/qiskit/aqua/algorithms/classifiers/sklearn_svm/_sklearn_svm_binary.py:100: DeprecationWarning: `np.int` is a deprecated alias for the builtin `int`. To silence this warning, use `int` by itself. Doing this will not modify any behavior and is safe. When replacing `np.int`, you may wish to use e.g. `np.int64` or `np.int32` to specify the precision. If you wish to review your current use, check the release note link for additional information.\n",
            "Deprecated in NumPy 1.20; for more details and guidance: https://numpy.org/devdocs/release/1.20.0-notes.html#deprecations\n",
            "  logger.debug('Predicted label is %s.', self.label_to_class[np.int(lsign[tin])])\n",
            "/usr/local/lib/python3.8/dist-packages/qiskit/aqua/algorithms/classifiers/sklearn_svm/_sklearn_svm_binary.py:101: DeprecationWarning: `np.int` is a deprecated alias for the builtin `int`. To silence this warning, use `int` by itself. Doing this will not modify any behavior and is safe. When replacing `np.int`, you may wish to use e.g. `np.int64` or `np.int32` to specify the precision. If you wish to review your current use, check the release note link for additional information.\n",
            "Deprecated in NumPy 1.20; for more details and guidance: https://numpy.org/devdocs/release/1.20.0-notes.html#deprecations\n",
            "  if np.int(labels[tin]) == np.int(lsign[tin]):\n",
            "/usr/local/lib/python3.8/dist-packages/qiskit/aqua/algorithms/classifiers/sklearn_svm/_sklearn_svm_binary.py:101: DeprecationWarning: `np.int` is a deprecated alias for the builtin `int`. To silence this warning, use `int` by itself. Doing this will not modify any behavior and is safe. When replacing `np.int`, you may wish to use e.g. `np.int64` or `np.int32` to specify the precision. If you wish to review your current use, check the release note link for additional information.\n",
            "Deprecated in NumPy 1.20; for more details and guidance: https://numpy.org/devdocs/release/1.20.0-notes.html#deprecations\n",
            "  if np.int(labels[tin]) == np.int(lsign[tin]):\n",
            "/usr/local/lib/python3.8/dist-packages/qiskit/aqua/algorithms/classifiers/sklearn_svm/_sklearn_svm_binary.py:99: DeprecationWarning: `np.int` is a deprecated alias for the builtin `int`. To silence this warning, use `int` by itself. Doing this will not modify any behavior and is safe. When replacing `np.int`, you may wish to use e.g. `np.int64` or `np.int32` to specify the precision. If you wish to review your current use, check the release note link for additional information.\n",
            "Deprecated in NumPy 1.20; for more details and guidance: https://numpy.org/devdocs/release/1.20.0-notes.html#deprecations\n",
            "  logger.debug('Label should be %s.', self.label_to_class[np.int(labels[tin])])\n",
            "/usr/local/lib/python3.8/dist-packages/qiskit/aqua/algorithms/classifiers/sklearn_svm/_sklearn_svm_binary.py:100: DeprecationWarning: `np.int` is a deprecated alias for the builtin `int`. To silence this warning, use `int` by itself. Doing this will not modify any behavior and is safe. When replacing `np.int`, you may wish to use e.g. `np.int64` or `np.int32` to specify the precision. If you wish to review your current use, check the release note link for additional information.\n",
            "Deprecated in NumPy 1.20; for more details and guidance: https://numpy.org/devdocs/release/1.20.0-notes.html#deprecations\n",
            "  logger.debug('Predicted label is %s.', self.label_to_class[np.int(lsign[tin])])\n",
            "/usr/local/lib/python3.8/dist-packages/qiskit/aqua/algorithms/classifiers/sklearn_svm/_sklearn_svm_binary.py:101: DeprecationWarning: `np.int` is a deprecated alias for the builtin `int`. To silence this warning, use `int` by itself. Doing this will not modify any behavior and is safe. When replacing `np.int`, you may wish to use e.g. `np.int64` or `np.int32` to specify the precision. If you wish to review your current use, check the release note link for additional information.\n",
            "Deprecated in NumPy 1.20; for more details and guidance: https://numpy.org/devdocs/release/1.20.0-notes.html#deprecations\n",
            "  if np.int(labels[tin]) == np.int(lsign[tin]):\n",
            "/usr/local/lib/python3.8/dist-packages/qiskit/aqua/algorithms/classifiers/sklearn_svm/_sklearn_svm_binary.py:101: DeprecationWarning: `np.int` is a deprecated alias for the builtin `int`. To silence this warning, use `int` by itself. Doing this will not modify any behavior and is safe. When replacing `np.int`, you may wish to use e.g. `np.int64` or `np.int32` to specify the precision. If you wish to review your current use, check the release note link for additional information.\n",
            "Deprecated in NumPy 1.20; for more details and guidance: https://numpy.org/devdocs/release/1.20.0-notes.html#deprecations\n",
            "  if np.int(labels[tin]) == np.int(lsign[tin]):\n",
            "/usr/local/lib/python3.8/dist-packages/qiskit/aqua/algorithms/classifiers/sklearn_svm/_sklearn_svm_binary.py:99: DeprecationWarning: `np.int` is a deprecated alias for the builtin `int`. To silence this warning, use `int` by itself. Doing this will not modify any behavior and is safe. When replacing `np.int`, you may wish to use e.g. `np.int64` or `np.int32` to specify the precision. If you wish to review your current use, check the release note link for additional information.\n",
            "Deprecated in NumPy 1.20; for more details and guidance: https://numpy.org/devdocs/release/1.20.0-notes.html#deprecations\n",
            "  logger.debug('Label should be %s.', self.label_to_class[np.int(labels[tin])])\n",
            "/usr/local/lib/python3.8/dist-packages/qiskit/aqua/algorithms/classifiers/sklearn_svm/_sklearn_svm_binary.py:100: DeprecationWarning: `np.int` is a deprecated alias for the builtin `int`. To silence this warning, use `int` by itself. Doing this will not modify any behavior and is safe. When replacing `np.int`, you may wish to use e.g. `np.int64` or `np.int32` to specify the precision. If you wish to review your current use, check the release note link for additional information.\n",
            "Deprecated in NumPy 1.20; for more details and guidance: https://numpy.org/devdocs/release/1.20.0-notes.html#deprecations\n",
            "  logger.debug('Predicted label is %s.', self.label_to_class[np.int(lsign[tin])])\n",
            "/usr/local/lib/python3.8/dist-packages/qiskit/aqua/algorithms/classifiers/sklearn_svm/_sklearn_svm_binary.py:101: DeprecationWarning: `np.int` is a deprecated alias for the builtin `int`. To silence this warning, use `int` by itself. Doing this will not modify any behavior and is safe. When replacing `np.int`, you may wish to use e.g. `np.int64` or `np.int32` to specify the precision. If you wish to review your current use, check the release note link for additional information.\n",
            "Deprecated in NumPy 1.20; for more details and guidance: https://numpy.org/devdocs/release/1.20.0-notes.html#deprecations\n",
            "  if np.int(labels[tin]) == np.int(lsign[tin]):\n",
            "/usr/local/lib/python3.8/dist-packages/qiskit/aqua/algorithms/classifiers/sklearn_svm/_sklearn_svm_binary.py:101: DeprecationWarning: `np.int` is a deprecated alias for the builtin `int`. To silence this warning, use `int` by itself. Doing this will not modify any behavior and is safe. When replacing `np.int`, you may wish to use e.g. `np.int64` or `np.int32` to specify the precision. If you wish to review your current use, check the release note link for additional information.\n",
            "Deprecated in NumPy 1.20; for more details and guidance: https://numpy.org/devdocs/release/1.20.0-notes.html#deprecations\n",
            "  if np.int(labels[tin]) == np.int(lsign[tin]):\n",
            "/usr/local/lib/python3.8/dist-packages/qiskit/aqua/algorithms/classifiers/sklearn_svm/_sklearn_svm_binary.py:99: DeprecationWarning: `np.int` is a deprecated alias for the builtin `int`. To silence this warning, use `int` by itself. Doing this will not modify any behavior and is safe. When replacing `np.int`, you may wish to use e.g. `np.int64` or `np.int32` to specify the precision. If you wish to review your current use, check the release note link for additional information.\n",
            "Deprecated in NumPy 1.20; for more details and guidance: https://numpy.org/devdocs/release/1.20.0-notes.html#deprecations\n",
            "  logger.debug('Label should be %s.', self.label_to_class[np.int(labels[tin])])\n",
            "/usr/local/lib/python3.8/dist-packages/qiskit/aqua/algorithms/classifiers/sklearn_svm/_sklearn_svm_binary.py:100: DeprecationWarning: `np.int` is a deprecated alias for the builtin `int`. To silence this warning, use `int` by itself. Doing this will not modify any behavior and is safe. When replacing `np.int`, you may wish to use e.g. `np.int64` or `np.int32` to specify the precision. If you wish to review your current use, check the release note link for additional information.\n",
            "Deprecated in NumPy 1.20; for more details and guidance: https://numpy.org/devdocs/release/1.20.0-notes.html#deprecations\n",
            "  logger.debug('Predicted label is %s.', self.label_to_class[np.int(lsign[tin])])\n",
            "/usr/local/lib/python3.8/dist-packages/qiskit/aqua/algorithms/classifiers/sklearn_svm/_sklearn_svm_binary.py:101: DeprecationWarning: `np.int` is a deprecated alias for the builtin `int`. To silence this warning, use `int` by itself. Doing this will not modify any behavior and is safe. When replacing `np.int`, you may wish to use e.g. `np.int64` or `np.int32` to specify the precision. If you wish to review your current use, check the release note link for additional information.\n",
            "Deprecated in NumPy 1.20; for more details and guidance: https://numpy.org/devdocs/release/1.20.0-notes.html#deprecations\n",
            "  if np.int(labels[tin]) == np.int(lsign[tin]):\n",
            "/usr/local/lib/python3.8/dist-packages/qiskit/aqua/algorithms/classifiers/sklearn_svm/_sklearn_svm_binary.py:101: DeprecationWarning: `np.int` is a deprecated alias for the builtin `int`. To silence this warning, use `int` by itself. Doing this will not modify any behavior and is safe. When replacing `np.int`, you may wish to use e.g. `np.int64` or `np.int32` to specify the precision. If you wish to review your current use, check the release note link for additional information.\n",
            "Deprecated in NumPy 1.20; for more details and guidance: https://numpy.org/devdocs/release/1.20.0-notes.html#deprecations\n",
            "  if np.int(labels[tin]) == np.int(lsign[tin]):\n",
            "/usr/local/lib/python3.8/dist-packages/qiskit/aqua/algorithms/classifiers/sklearn_svm/_sklearn_svm_binary.py:99: DeprecationWarning: `np.int` is a deprecated alias for the builtin `int`. To silence this warning, use `int` by itself. Doing this will not modify any behavior and is safe. When replacing `np.int`, you may wish to use e.g. `np.int64` or `np.int32` to specify the precision. If you wish to review your current use, check the release note link for additional information.\n",
            "Deprecated in NumPy 1.20; for more details and guidance: https://numpy.org/devdocs/release/1.20.0-notes.html#deprecations\n",
            "  logger.debug('Label should be %s.', self.label_to_class[np.int(labels[tin])])\n",
            "/usr/local/lib/python3.8/dist-packages/qiskit/aqua/algorithms/classifiers/sklearn_svm/_sklearn_svm_binary.py:100: DeprecationWarning: `np.int` is a deprecated alias for the builtin `int`. To silence this warning, use `int` by itself. Doing this will not modify any behavior and is safe. When replacing `np.int`, you may wish to use e.g. `np.int64` or `np.int32` to specify the precision. If you wish to review your current use, check the release note link for additional information.\n",
            "Deprecated in NumPy 1.20; for more details and guidance: https://numpy.org/devdocs/release/1.20.0-notes.html#deprecations\n",
            "  logger.debug('Predicted label is %s.', self.label_to_class[np.int(lsign[tin])])\n",
            "/usr/local/lib/python3.8/dist-packages/qiskit/aqua/algorithms/classifiers/sklearn_svm/_sklearn_svm_binary.py:101: DeprecationWarning: `np.int` is a deprecated alias for the builtin `int`. To silence this warning, use `int` by itself. Doing this will not modify any behavior and is safe. When replacing `np.int`, you may wish to use e.g. `np.int64` or `np.int32` to specify the precision. If you wish to review your current use, check the release note link for additional information.\n",
            "Deprecated in NumPy 1.20; for more details and guidance: https://numpy.org/devdocs/release/1.20.0-notes.html#deprecations\n",
            "  if np.int(labels[tin]) == np.int(lsign[tin]):\n",
            "/usr/local/lib/python3.8/dist-packages/qiskit/aqua/algorithms/classifiers/sklearn_svm/_sklearn_svm_binary.py:101: DeprecationWarning: `np.int` is a deprecated alias for the builtin `int`. To silence this warning, use `int` by itself. Doing this will not modify any behavior and is safe. When replacing `np.int`, you may wish to use e.g. `np.int64` or `np.int32` to specify the precision. If you wish to review your current use, check the release note link for additional information.\n",
            "Deprecated in NumPy 1.20; for more details and guidance: https://numpy.org/devdocs/release/1.20.0-notes.html#deprecations\n",
            "  if np.int(labels[tin]) == np.int(lsign[tin]):\n",
            "/usr/local/lib/python3.8/dist-packages/qiskit/aqua/algorithms/classifiers/sklearn_svm/_sklearn_svm_binary.py:99: DeprecationWarning: `np.int` is a deprecated alias for the builtin `int`. To silence this warning, use `int` by itself. Doing this will not modify any behavior and is safe. When replacing `np.int`, you may wish to use e.g. `np.int64` or `np.int32` to specify the precision. If you wish to review your current use, check the release note link for additional information.\n",
            "Deprecated in NumPy 1.20; for more details and guidance: https://numpy.org/devdocs/release/1.20.0-notes.html#deprecations\n",
            "  logger.debug('Label should be %s.', self.label_to_class[np.int(labels[tin])])\n",
            "/usr/local/lib/python3.8/dist-packages/qiskit/aqua/algorithms/classifiers/sklearn_svm/_sklearn_svm_binary.py:100: DeprecationWarning: `np.int` is a deprecated alias for the builtin `int`. To silence this warning, use `int` by itself. Doing this will not modify any behavior and is safe. When replacing `np.int`, you may wish to use e.g. `np.int64` or `np.int32` to specify the precision. If you wish to review your current use, check the release note link for additional information.\n",
            "Deprecated in NumPy 1.20; for more details and guidance: https://numpy.org/devdocs/release/1.20.0-notes.html#deprecations\n",
            "  logger.debug('Predicted label is %s.', self.label_to_class[np.int(lsign[tin])])\n",
            "/usr/local/lib/python3.8/dist-packages/qiskit/aqua/algorithms/classifiers/sklearn_svm/_sklearn_svm_binary.py:101: DeprecationWarning: `np.int` is a deprecated alias for the builtin `int`. To silence this warning, use `int` by itself. Doing this will not modify any behavior and is safe. When replacing `np.int`, you may wish to use e.g. `np.int64` or `np.int32` to specify the precision. If you wish to review your current use, check the release note link for additional information.\n",
            "Deprecated in NumPy 1.20; for more details and guidance: https://numpy.org/devdocs/release/1.20.0-notes.html#deprecations\n",
            "  if np.int(labels[tin]) == np.int(lsign[tin]):\n",
            "/usr/local/lib/python3.8/dist-packages/qiskit/aqua/algorithms/classifiers/sklearn_svm/_sklearn_svm_binary.py:101: DeprecationWarning: `np.int` is a deprecated alias for the builtin `int`. To silence this warning, use `int` by itself. Doing this will not modify any behavior and is safe. When replacing `np.int`, you may wish to use e.g. `np.int64` or `np.int32` to specify the precision. If you wish to review your current use, check the release note link for additional information.\n",
            "Deprecated in NumPy 1.20; for more details and guidance: https://numpy.org/devdocs/release/1.20.0-notes.html#deprecations\n",
            "  if np.int(labels[tin]) == np.int(lsign[tin]):\n",
            "/usr/local/lib/python3.8/dist-packages/qiskit/aqua/algorithms/classifiers/sklearn_svm/_sklearn_svm_binary.py:99: DeprecationWarning: `np.int` is a deprecated alias for the builtin `int`. To silence this warning, use `int` by itself. Doing this will not modify any behavior and is safe. When replacing `np.int`, you may wish to use e.g. `np.int64` or `np.int32` to specify the precision. If you wish to review your current use, check the release note link for additional information.\n",
            "Deprecated in NumPy 1.20; for more details and guidance: https://numpy.org/devdocs/release/1.20.0-notes.html#deprecations\n",
            "  logger.debug('Label should be %s.', self.label_to_class[np.int(labels[tin])])\n",
            "/usr/local/lib/python3.8/dist-packages/qiskit/aqua/algorithms/classifiers/sklearn_svm/_sklearn_svm_binary.py:100: DeprecationWarning: `np.int` is a deprecated alias for the builtin `int`. To silence this warning, use `int` by itself. Doing this will not modify any behavior and is safe. When replacing `np.int`, you may wish to use e.g. `np.int64` or `np.int32` to specify the precision. If you wish to review your current use, check the release note link for additional information.\n",
            "Deprecated in NumPy 1.20; for more details and guidance: https://numpy.org/devdocs/release/1.20.0-notes.html#deprecations\n",
            "  logger.debug('Predicted label is %s.', self.label_to_class[np.int(lsign[tin])])\n",
            "/usr/local/lib/python3.8/dist-packages/qiskit/aqua/algorithms/classifiers/sklearn_svm/_sklearn_svm_binary.py:101: DeprecationWarning: `np.int` is a deprecated alias for the builtin `int`. To silence this warning, use `int` by itself. Doing this will not modify any behavior and is safe. When replacing `np.int`, you may wish to use e.g. `np.int64` or `np.int32` to specify the precision. If you wish to review your current use, check the release note link for additional information.\n",
            "Deprecated in NumPy 1.20; for more details and guidance: https://numpy.org/devdocs/release/1.20.0-notes.html#deprecations\n",
            "  if np.int(labels[tin]) == np.int(lsign[tin]):\n",
            "/usr/local/lib/python3.8/dist-packages/qiskit/aqua/algorithms/classifiers/sklearn_svm/_sklearn_svm_binary.py:101: DeprecationWarning: `np.int` is a deprecated alias for the builtin `int`. To silence this warning, use `int` by itself. Doing this will not modify any behavior and is safe. When replacing `np.int`, you may wish to use e.g. `np.int64` or `np.int32` to specify the precision. If you wish to review your current use, check the release note link for additional information.\n",
            "Deprecated in NumPy 1.20; for more details and guidance: https://numpy.org/devdocs/release/1.20.0-notes.html#deprecations\n",
            "  if np.int(labels[tin]) == np.int(lsign[tin]):\n",
            "/usr/local/lib/python3.8/dist-packages/qiskit/aqua/algorithms/classifiers/sklearn_svm/_sklearn_svm_binary.py:99: DeprecationWarning: `np.int` is a deprecated alias for the builtin `int`. To silence this warning, use `int` by itself. Doing this will not modify any behavior and is safe. When replacing `np.int`, you may wish to use e.g. `np.int64` or `np.int32` to specify the precision. If you wish to review your current use, check the release note link for additional information.\n",
            "Deprecated in NumPy 1.20; for more details and guidance: https://numpy.org/devdocs/release/1.20.0-notes.html#deprecations\n",
            "  logger.debug('Label should be %s.', self.label_to_class[np.int(labels[tin])])\n",
            "/usr/local/lib/python3.8/dist-packages/qiskit/aqua/algorithms/classifiers/sklearn_svm/_sklearn_svm_binary.py:100: DeprecationWarning: `np.int` is a deprecated alias for the builtin `int`. To silence this warning, use `int` by itself. Doing this will not modify any behavior and is safe. When replacing `np.int`, you may wish to use e.g. `np.int64` or `np.int32` to specify the precision. If you wish to review your current use, check the release note link for additional information.\n",
            "Deprecated in NumPy 1.20; for more details and guidance: https://numpy.org/devdocs/release/1.20.0-notes.html#deprecations\n",
            "  logger.debug('Predicted label is %s.', self.label_to_class[np.int(lsign[tin])])\n",
            "/usr/local/lib/python3.8/dist-packages/qiskit/aqua/algorithms/classifiers/sklearn_svm/_sklearn_svm_binary.py:101: DeprecationWarning: `np.int` is a deprecated alias for the builtin `int`. To silence this warning, use `int` by itself. Doing this will not modify any behavior and is safe. When replacing `np.int`, you may wish to use e.g. `np.int64` or `np.int32` to specify the precision. If you wish to review your current use, check the release note link for additional information.\n",
            "Deprecated in NumPy 1.20; for more details and guidance: https://numpy.org/devdocs/release/1.20.0-notes.html#deprecations\n",
            "  if np.int(labels[tin]) == np.int(lsign[tin]):\n",
            "/usr/local/lib/python3.8/dist-packages/qiskit/aqua/algorithms/classifiers/sklearn_svm/_sklearn_svm_binary.py:101: DeprecationWarning: `np.int` is a deprecated alias for the builtin `int`. To silence this warning, use `int` by itself. Doing this will not modify any behavior and is safe. When replacing `np.int`, you may wish to use e.g. `np.int64` or `np.int32` to specify the precision. If you wish to review your current use, check the release note link for additional information.\n",
            "Deprecated in NumPy 1.20; for more details and guidance: https://numpy.org/devdocs/release/1.20.0-notes.html#deprecations\n",
            "  if np.int(labels[tin]) == np.int(lsign[tin]):\n",
            "/usr/local/lib/python3.8/dist-packages/qiskit/aqua/algorithms/classifiers/sklearn_svm/_sklearn_svm_binary.py:99: DeprecationWarning: `np.int` is a deprecated alias for the builtin `int`. To silence this warning, use `int` by itself. Doing this will not modify any behavior and is safe. When replacing `np.int`, you may wish to use e.g. `np.int64` or `np.int32` to specify the precision. If you wish to review your current use, check the release note link for additional information.\n",
            "Deprecated in NumPy 1.20; for more details and guidance: https://numpy.org/devdocs/release/1.20.0-notes.html#deprecations\n",
            "  logger.debug('Label should be %s.', self.label_to_class[np.int(labels[tin])])\n",
            "/usr/local/lib/python3.8/dist-packages/qiskit/aqua/algorithms/classifiers/sklearn_svm/_sklearn_svm_binary.py:100: DeprecationWarning: `np.int` is a deprecated alias for the builtin `int`. To silence this warning, use `int` by itself. Doing this will not modify any behavior and is safe. When replacing `np.int`, you may wish to use e.g. `np.int64` or `np.int32` to specify the precision. If you wish to review your current use, check the release note link for additional information.\n",
            "Deprecated in NumPy 1.20; for more details and guidance: https://numpy.org/devdocs/release/1.20.0-notes.html#deprecations\n",
            "  logger.debug('Predicted label is %s.', self.label_to_class[np.int(lsign[tin])])\n",
            "/usr/local/lib/python3.8/dist-packages/qiskit/aqua/algorithms/classifiers/sklearn_svm/_sklearn_svm_binary.py:101: DeprecationWarning: `np.int` is a deprecated alias for the builtin `int`. To silence this warning, use `int` by itself. Doing this will not modify any behavior and is safe. When replacing `np.int`, you may wish to use e.g. `np.int64` or `np.int32` to specify the precision. If you wish to review your current use, check the release note link for additional information.\n",
            "Deprecated in NumPy 1.20; for more details and guidance: https://numpy.org/devdocs/release/1.20.0-notes.html#deprecations\n",
            "  if np.int(labels[tin]) == np.int(lsign[tin]):\n",
            "/usr/local/lib/python3.8/dist-packages/qiskit/aqua/algorithms/classifiers/sklearn_svm/_sklearn_svm_binary.py:101: DeprecationWarning: `np.int` is a deprecated alias for the builtin `int`. To silence this warning, use `int` by itself. Doing this will not modify any behavior and is safe. When replacing `np.int`, you may wish to use e.g. `np.int64` or `np.int32` to specify the precision. If you wish to review your current use, check the release note link for additional information.\n",
            "Deprecated in NumPy 1.20; for more details and guidance: https://numpy.org/devdocs/release/1.20.0-notes.html#deprecations\n",
            "  if np.int(labels[tin]) == np.int(lsign[tin]):\n",
            "/usr/local/lib/python3.8/dist-packages/qiskit/aqua/algorithms/classifiers/sklearn_svm/_sklearn_svm_binary.py:99: DeprecationWarning: `np.int` is a deprecated alias for the builtin `int`. To silence this warning, use `int` by itself. Doing this will not modify any behavior and is safe. When replacing `np.int`, you may wish to use e.g. `np.int64` or `np.int32` to specify the precision. If you wish to review your current use, check the release note link for additional information.\n",
            "Deprecated in NumPy 1.20; for more details and guidance: https://numpy.org/devdocs/release/1.20.0-notes.html#deprecations\n",
            "  logger.debug('Label should be %s.', self.label_to_class[np.int(labels[tin])])\n",
            "/usr/local/lib/python3.8/dist-packages/qiskit/aqua/algorithms/classifiers/sklearn_svm/_sklearn_svm_binary.py:100: DeprecationWarning: `np.int` is a deprecated alias for the builtin `int`. To silence this warning, use `int` by itself. Doing this will not modify any behavior and is safe. When replacing `np.int`, you may wish to use e.g. `np.int64` or `np.int32` to specify the precision. If you wish to review your current use, check the release note link for additional information.\n",
            "Deprecated in NumPy 1.20; for more details and guidance: https://numpy.org/devdocs/release/1.20.0-notes.html#deprecations\n",
            "  logger.debug('Predicted label is %s.', self.label_to_class[np.int(lsign[tin])])\n",
            "/usr/local/lib/python3.8/dist-packages/qiskit/aqua/algorithms/classifiers/sklearn_svm/_sklearn_svm_binary.py:101: DeprecationWarning: `np.int` is a deprecated alias for the builtin `int`. To silence this warning, use `int` by itself. Doing this will not modify any behavior and is safe. When replacing `np.int`, you may wish to use e.g. `np.int64` or `np.int32` to specify the precision. If you wish to review your current use, check the release note link for additional information.\n",
            "Deprecated in NumPy 1.20; for more details and guidance: https://numpy.org/devdocs/release/1.20.0-notes.html#deprecations\n",
            "  if np.int(labels[tin]) == np.int(lsign[tin]):\n",
            "/usr/local/lib/python3.8/dist-packages/qiskit/aqua/algorithms/classifiers/sklearn_svm/_sklearn_svm_binary.py:101: DeprecationWarning: `np.int` is a deprecated alias for the builtin `int`. To silence this warning, use `int` by itself. Doing this will not modify any behavior and is safe. When replacing `np.int`, you may wish to use e.g. `np.int64` or `np.int32` to specify the precision. If you wish to review your current use, check the release note link for additional information.\n",
            "Deprecated in NumPy 1.20; for more details and guidance: https://numpy.org/devdocs/release/1.20.0-notes.html#deprecations\n",
            "  if np.int(labels[tin]) == np.int(lsign[tin]):\n",
            "/usr/local/lib/python3.8/dist-packages/qiskit/aqua/algorithms/classifiers/sklearn_svm/_sklearn_svm_binary.py:99: DeprecationWarning: `np.int` is a deprecated alias for the builtin `int`. To silence this warning, use `int` by itself. Doing this will not modify any behavior and is safe. When replacing `np.int`, you may wish to use e.g. `np.int64` or `np.int32` to specify the precision. If you wish to review your current use, check the release note link for additional information.\n",
            "Deprecated in NumPy 1.20; for more details and guidance: https://numpy.org/devdocs/release/1.20.0-notes.html#deprecations\n",
            "  logger.debug('Label should be %s.', self.label_to_class[np.int(labels[tin])])\n",
            "/usr/local/lib/python3.8/dist-packages/qiskit/aqua/algorithms/classifiers/sklearn_svm/_sklearn_svm_binary.py:100: DeprecationWarning: `np.int` is a deprecated alias for the builtin `int`. To silence this warning, use `int` by itself. Doing this will not modify any behavior and is safe. When replacing `np.int`, you may wish to use e.g. `np.int64` or `np.int32` to specify the precision. If you wish to review your current use, check the release note link for additional information.\n",
            "Deprecated in NumPy 1.20; for more details and guidance: https://numpy.org/devdocs/release/1.20.0-notes.html#deprecations\n",
            "  logger.debug('Predicted label is %s.', self.label_to_class[np.int(lsign[tin])])\n",
            "/usr/local/lib/python3.8/dist-packages/qiskit/aqua/algorithms/classifiers/sklearn_svm/_sklearn_svm_binary.py:101: DeprecationWarning: `np.int` is a deprecated alias for the builtin `int`. To silence this warning, use `int` by itself. Doing this will not modify any behavior and is safe. When replacing `np.int`, you may wish to use e.g. `np.int64` or `np.int32` to specify the precision. If you wish to review your current use, check the release note link for additional information.\n",
            "Deprecated in NumPy 1.20; for more details and guidance: https://numpy.org/devdocs/release/1.20.0-notes.html#deprecations\n",
            "  if np.int(labels[tin]) == np.int(lsign[tin]):\n",
            "/usr/local/lib/python3.8/dist-packages/qiskit/aqua/algorithms/classifiers/sklearn_svm/_sklearn_svm_binary.py:101: DeprecationWarning: `np.int` is a deprecated alias for the builtin `int`. To silence this warning, use `int` by itself. Doing this will not modify any behavior and is safe. When replacing `np.int`, you may wish to use e.g. `np.int64` or `np.int32` to specify the precision. If you wish to review your current use, check the release note link for additional information.\n",
            "Deprecated in NumPy 1.20; for more details and guidance: https://numpy.org/devdocs/release/1.20.0-notes.html#deprecations\n",
            "  if np.int(labels[tin]) == np.int(lsign[tin]):\n",
            "/usr/local/lib/python3.8/dist-packages/qiskit/aqua/algorithms/classifiers/sklearn_svm/_sklearn_svm_binary.py:99: DeprecationWarning: `np.int` is a deprecated alias for the builtin `int`. To silence this warning, use `int` by itself. Doing this will not modify any behavior and is safe. When replacing `np.int`, you may wish to use e.g. `np.int64` or `np.int32` to specify the precision. If you wish to review your current use, check the release note link for additional information.\n",
            "Deprecated in NumPy 1.20; for more details and guidance: https://numpy.org/devdocs/release/1.20.0-notes.html#deprecations\n",
            "  logger.debug('Label should be %s.', self.label_to_class[np.int(labels[tin])])\n",
            "/usr/local/lib/python3.8/dist-packages/qiskit/aqua/algorithms/classifiers/sklearn_svm/_sklearn_svm_binary.py:100: DeprecationWarning: `np.int` is a deprecated alias for the builtin `int`. To silence this warning, use `int` by itself. Doing this will not modify any behavior and is safe. When replacing `np.int`, you may wish to use e.g. `np.int64` or `np.int32` to specify the precision. If you wish to review your current use, check the release note link for additional information.\n",
            "Deprecated in NumPy 1.20; for more details and guidance: https://numpy.org/devdocs/release/1.20.0-notes.html#deprecations\n",
            "  logger.debug('Predicted label is %s.', self.label_to_class[np.int(lsign[tin])])\n",
            "/usr/local/lib/python3.8/dist-packages/qiskit/aqua/algorithms/classifiers/sklearn_svm/_sklearn_svm_binary.py:101: DeprecationWarning: `np.int` is a deprecated alias for the builtin `int`. To silence this warning, use `int` by itself. Doing this will not modify any behavior and is safe. When replacing `np.int`, you may wish to use e.g. `np.int64` or `np.int32` to specify the precision. If you wish to review your current use, check the release note link for additional information.\n",
            "Deprecated in NumPy 1.20; for more details and guidance: https://numpy.org/devdocs/release/1.20.0-notes.html#deprecations\n",
            "  if np.int(labels[tin]) == np.int(lsign[tin]):\n",
            "/usr/local/lib/python3.8/dist-packages/qiskit/aqua/algorithms/classifiers/sklearn_svm/_sklearn_svm_binary.py:101: DeprecationWarning: `np.int` is a deprecated alias for the builtin `int`. To silence this warning, use `int` by itself. Doing this will not modify any behavior and is safe. When replacing `np.int`, you may wish to use e.g. `np.int64` or `np.int32` to specify the precision. If you wish to review your current use, check the release note link for additional information.\n",
            "Deprecated in NumPy 1.20; for more details and guidance: https://numpy.org/devdocs/release/1.20.0-notes.html#deprecations\n",
            "  if np.int(labels[tin]) == np.int(lsign[tin]):\n",
            "/usr/local/lib/python3.8/dist-packages/qiskit/aqua/algorithms/classifiers/sklearn_svm/_sklearn_svm_binary.py:99: DeprecationWarning: `np.int` is a deprecated alias for the builtin `int`. To silence this warning, use `int` by itself. Doing this will not modify any behavior and is safe. When replacing `np.int`, you may wish to use e.g. `np.int64` or `np.int32` to specify the precision. If you wish to review your current use, check the release note link for additional information.\n",
            "Deprecated in NumPy 1.20; for more details and guidance: https://numpy.org/devdocs/release/1.20.0-notes.html#deprecations\n",
            "  logger.debug('Label should be %s.', self.label_to_class[np.int(labels[tin])])\n",
            "/usr/local/lib/python3.8/dist-packages/qiskit/aqua/algorithms/classifiers/sklearn_svm/_sklearn_svm_binary.py:100: DeprecationWarning: `np.int` is a deprecated alias for the builtin `int`. To silence this warning, use `int` by itself. Doing this will not modify any behavior and is safe. When replacing `np.int`, you may wish to use e.g. `np.int64` or `np.int32` to specify the precision. If you wish to review your current use, check the release note link for additional information.\n",
            "Deprecated in NumPy 1.20; for more details and guidance: https://numpy.org/devdocs/release/1.20.0-notes.html#deprecations\n",
            "  logger.debug('Predicted label is %s.', self.label_to_class[np.int(lsign[tin])])\n",
            "/usr/local/lib/python3.8/dist-packages/qiskit/aqua/algorithms/classifiers/sklearn_svm/_sklearn_svm_binary.py:101: DeprecationWarning: `np.int` is a deprecated alias for the builtin `int`. To silence this warning, use `int` by itself. Doing this will not modify any behavior and is safe. When replacing `np.int`, you may wish to use e.g. `np.int64` or `np.int32` to specify the precision. If you wish to review your current use, check the release note link for additional information.\n",
            "Deprecated in NumPy 1.20; for more details and guidance: https://numpy.org/devdocs/release/1.20.0-notes.html#deprecations\n",
            "  if np.int(labels[tin]) == np.int(lsign[tin]):\n",
            "/usr/local/lib/python3.8/dist-packages/qiskit/aqua/algorithms/classifiers/sklearn_svm/_sklearn_svm_binary.py:101: DeprecationWarning: `np.int` is a deprecated alias for the builtin `int`. To silence this warning, use `int` by itself. Doing this will not modify any behavior and is safe. When replacing `np.int`, you may wish to use e.g. `np.int64` or `np.int32` to specify the precision. If you wish to review your current use, check the release note link for additional information.\n",
            "Deprecated in NumPy 1.20; for more details and guidance: https://numpy.org/devdocs/release/1.20.0-notes.html#deprecations\n",
            "  if np.int(labels[tin]) == np.int(lsign[tin]):\n"
          ]
        },
        {
          "output_type": "stream",
          "name": "stdout",
          "text": [
            "Testing success ratio: 0.85\n"
          ]
        },
        {
          "output_type": "display_data",
          "data": {
            "text/plain": [
              "<Figure size 432x288 with 1 Axes>"
            ],
            "image/png": "[encoded data removed]"
          },
          "metadata": {
            "needs_background": "light"
          }
        }
      ]
    },
    {
      "cell_type": "code",
      "source": [],
      "metadata": {
        "id": "uQvLUzv8OTnk"
      },
      "execution_count": null,
      "outputs": []
    }
  ]
}