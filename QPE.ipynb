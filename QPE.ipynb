{
  "nbformat": 4,
  "nbformat_minor": 0,
  "metadata": {
    "colab": {
      "provenance": []
    },
    "kernelspec": {
      "name": "python3",
      "display_name": "Python 3"
    },
    "language_info": {
      "name": "python"
    }
  },
  "cells": [
    {
      "cell_type": "markdown",
      "source": [
        "# Installation"
      ],
      "metadata": {
        "id": "14yHkwpvH9gA"
      }
    },
    {
      "cell_type": "code",
      "execution_count": 1,
      "metadata": {
        "colab": {
          "base_uri": "https://localhost:8080/",
          "height": 1000
        },
        "id": "uhnoWZqEHv5s",
        "outputId": "509023d7-66aa-4bd6-9f25-c74c7548ac47"
      },
      "outputs": [
        {
          "output_type": "stream",
          "name": "stdout",
          "text": [
            "Looking in indexes: https://pypi.org/simple, https://us-python.pkg.dev/colab-wheels/public/simple/\n",
            "Collecting cirq\n",
            "  Downloading cirq-1.0.0-py3-none-any.whl (7.8 kB)\n",
            "Collecting cirq-ionq==1.0.0\n",
            "  Downloading cirq_ionq-1.0.0-py3-none-any.whl (57 kB)\n",
            "\u001b[K     |████████████████████████████████| 57 kB 1.1 MB/s \n",
            "\u001b[?25hCollecting cirq-rigetti==1.0.0\n",
            "  Downloading cirq_rigetti-1.0.0-py3-none-any.whl (66 kB)\n",
            "\u001b[K     |████████████████████████████████| 66 kB 810 kB/s \n",
            "\u001b[?25hCollecting cirq-pasqal==1.0.0\n",
            "  Downloading cirq_pasqal-1.0.0-py3-none-any.whl (31 kB)\n",
            "Collecting cirq-web==1.0.0\n",
            "  Downloading cirq_web-1.0.0-py3-none-any.whl (594 kB)\n",
            "\u001b[K     |████████████████████████████████| 594 kB 39.7 MB/s \n",
            "\u001b[?25hCollecting cirq-aqt==1.0.0\n",
            "  Downloading cirq_aqt-1.0.0-py3-none-any.whl (27 kB)\n",
            "Collecting cirq-core==1.0.0\n",
            "  Downloading cirq_core-1.0.0-py3-none-any.whl (1.8 MB)\n",
            "\u001b[K     |████████████████████████████████| 1.8 MB 38.9 MB/s \n",
            "\u001b[?25hCollecting cirq-google==1.0.0\n",
            "  Downloading cirq_google-1.0.0-py3-none-any.whl (576 kB)\n",
            "\u001b[K     |████████████████████████████████| 576 kB 44.2 MB/s \n",
            "\u001b[?25hRequirement already satisfied: requests~=2.18 in /usr/local/lib/python3.8/dist-packages (from cirq-aqt==1.0.0->cirq) (2.23.0)\n",
            "Requirement already satisfied: numpy~=1.16 in /usr/local/lib/python3.8/dist-packages (from cirq-core==1.0.0->cirq) (1.21.6)\n",
            "Requirement already satisfied: typing-extensions in /usr/local/lib/python3.8/dist-packages (from cirq-core==1.0.0->cirq) (4.4.0)\n",
            "Requirement already satisfied: sympy in /usr/local/lib/python3.8/dist-packages (from cirq-core==1.0.0->cirq) (1.7.1)\n",
            "Requirement already satisfied: networkx~=2.4 in /usr/local/lib/python3.8/dist-packages (from cirq-core==1.0.0->cirq) (2.8.8)\n",
            "Requirement already satisfied: tqdm in /usr/local/lib/python3.8/dist-packages (from cirq-core==1.0.0->cirq) (4.64.1)\n",
            "Requirement already satisfied: scipy in /usr/local/lib/python3.8/dist-packages (from cirq-core==1.0.0->cirq) (1.7.3)\n",
            "Requirement already satisfied: matplotlib~=3.0 in /usr/local/lib/python3.8/dist-packages (from cirq-core==1.0.0->cirq) (3.2.2)\n",
            "Collecting duet~=0.2.7\n",
            "  Downloading duet-0.2.7-py3-none-any.whl (28 kB)\n",
            "Requirement already satisfied: pandas in /usr/local/lib/python3.8/dist-packages (from cirq-core==1.0.0->cirq) (1.3.5)\n",
            "Requirement already satisfied: sortedcontainers~=2.0 in /usr/local/lib/python3.8/dist-packages (from cirq-core==1.0.0->cirq) (2.4.0)\n",
            "Requirement already satisfied: protobuf<4,>=3.15.0 in /usr/local/lib/python3.8/dist-packages (from cirq-google==1.0.0->cirq) (3.19.6)\n",
            "Requirement already satisfied: proto-plus>=1.20.0 in /usr/local/lib/python3.8/dist-packages (from cirq-google==1.0.0->cirq) (1.22.1)\n",
            "Collecting google-api-core[grpc]<2.0.0dev,>=1.14.0\n",
            "  Downloading google_api_core-1.34.0-py3-none-any.whl (120 kB)\n",
            "\u001b[K     |████████████████████████████████| 120 kB 58.2 MB/s \n",
            "\u001b[?25hCollecting pyquil>=3.0.0\n",
            "  Downloading pyquil-3.3.2-py3-none-any.whl (221 kB)\n",
            "\u001b[K     |████████████████████████████████| 221 kB 51.9 MB/s \n",
            "\u001b[?25hRequirement already satisfied: googleapis-common-protos<2.0dev,>=1.56.2 in /usr/local/lib/python3.8/dist-packages (from google-api-core[grpc]<2.0.0dev,>=1.14.0->cirq-google==1.0.0->cirq) (1.57.0)\n",
            "Requirement already satisfied: google-auth<3.0dev,>=1.25.0 in /usr/local/lib/python3.8/dist-packages (from google-api-core[grpc]<2.0.0dev,>=1.14.0->cirq-google==1.0.0->cirq) (2.15.0)\n",
            "Requirement already satisfied: grpcio<2.0dev,>=1.33.2 in /usr/local/lib/python3.8/dist-packages (from google-api-core[grpc]<2.0.0dev,>=1.14.0->cirq-google==1.0.0->cirq) (1.51.1)\n",
            "Requirement already satisfied: grpcio-status<2.0dev,>=1.33.2 in /usr/local/lib/python3.8/dist-packages (from google-api-core[grpc]<2.0.0dev,>=1.14.0->cirq-google==1.0.0->cirq) (1.48.2)\n",
            "Requirement already satisfied: cachetools<6.0,>=2.0.0 in /usr/local/lib/python3.8/dist-packages (from google-auth<3.0dev,>=1.25.0->google-api-core[grpc]<2.0.0dev,>=1.14.0->cirq-google==1.0.0->cirq) (5.2.0)\n",
            "Requirement already satisfied: six>=1.9.0 in /usr/local/lib/python3.8/dist-packages (from google-auth<3.0dev,>=1.25.0->google-api-core[grpc]<2.0.0dev,>=1.14.0->cirq-google==1.0.0->cirq) (1.15.0)\n",
            "Requirement already satisfied: rsa<5,>=3.1.4 in /usr/local/lib/python3.8/dist-packages (from google-auth<3.0dev,>=1.25.0->google-api-core[grpc]<2.0.0dev,>=1.14.0->cirq-google==1.0.0->cirq) (4.9)\n",
            "Requirement already satisfied: pyasn1-modules>=0.2.1 in /usr/local/lib/python3.8/dist-packages (from google-auth<3.0dev,>=1.25.0->google-api-core[grpc]<2.0.0dev,>=1.14.0->cirq-google==1.0.0->cirq) (0.2.8)\n",
            "Requirement already satisfied: cycler>=0.10 in /usr/local/lib/python3.8/dist-packages (from matplotlib~=3.0->cirq-core==1.0.0->cirq) (0.11.0)\n",
            "Requirement already satisfied: kiwisolver>=1.0.1 in /usr/local/lib/python3.8/dist-packages (from matplotlib~=3.0->cirq-core==1.0.0->cirq) (1.4.4)\n",
            "Requirement already satisfied: python-dateutil>=2.1 in /usr/local/lib/python3.8/dist-packages (from matplotlib~=3.0->cirq-core==1.0.0->cirq) (2.8.2)\n",
            "Requirement already satisfied: pyparsing!=2.0.4,!=2.1.2,!=2.1.6,>=2.0.1 in /usr/local/lib/python3.8/dist-packages (from matplotlib~=3.0->cirq-core==1.0.0->cirq) (3.0.9)\n",
            "Requirement already satisfied: pyasn1<0.5.0,>=0.4.6 in /usr/local/lib/python3.8/dist-packages (from pyasn1-modules>=0.2.1->google-auth<3.0dev,>=1.25.0->google-api-core[grpc]<2.0.0dev,>=1.14.0->cirq-google==1.0.0->cirq) (0.4.8)\n",
            "Collecting qcs-api-client<0.22.0,>=0.21.0\n",
            "  Downloading qcs_api_client-0.21.2-py3-none-any.whl (147 kB)\n",
            "\u001b[K     |████████████████████████████████| 147 kB 59.2 MB/s \n",
            "\u001b[?25hCollecting types-retry<0.10.0,>=0.9.9\n",
            "  Downloading types_retry-0.9.9-py3-none-any.whl (2.4 kB)\n",
            "Collecting rpcq<4.0.0,>=3.10.0\n",
            "  Downloading rpcq-3.10.0.tar.gz (44 kB)\n",
            "\u001b[K     |████████████████████████████████| 44 kB 3.1 MB/s \n",
            "\u001b[?25hCollecting lark<0.12.0,>=0.11.1\n",
            "  Downloading lark-0.11.3.tar.gz (229 kB)\n",
            "\u001b[K     |████████████████████████████████| 229 kB 53.3 MB/s \n",
            "\u001b[?25hCollecting retry<0.10.0,>=0.9.2\n",
            "  Downloading retry-0.9.2-py2.py3-none-any.whl (8.0 kB)\n",
            "Collecting types-python-dateutil<3.0.0,>=2.8.19\n",
            "  Downloading types_python_dateutil-2.8.19.4-py3-none-any.whl (8.2 kB)\n",
            "Collecting attrs<21.0.0,>=20.1.0\n",
            "  Downloading attrs-20.3.0-py2.py3-none-any.whl (49 kB)\n",
            "\u001b[K     |████████████████████████████████| 49 kB 5.8 MB/s \n",
            "\u001b[?25hCollecting PyJWT<3.0.0,>=2.4.0\n",
            "  Downloading PyJWT-2.6.0-py3-none-any.whl (20 kB)\n",
            "Requirement already satisfied: pydantic<2.0.0,>=1.7.2 in /usr/local/lib/python3.8/dist-packages (from qcs-api-client<0.22.0,>=0.21.0->pyquil>=3.0.0->cirq-rigetti==1.0.0->cirq) (1.10.2)\n",
            "Collecting iso8601<2.0.0,>=1.0.2\n",
            "  Downloading iso8601-1.1.0-py3-none-any.whl (9.9 kB)\n",
            "Collecting retrying<2.0.0,>=1.3.3\n",
            "  Downloading retrying-1.3.4-py3-none-any.whl (11 kB)\n",
            "Requirement already satisfied: toml<0.11.0,>=0.10.2 in /usr/local/lib/python3.8/dist-packages (from qcs-api-client<0.22.0,>=0.21.0->pyquil>=3.0.0->cirq-rigetti==1.0.0->cirq) (0.10.2)\n",
            "Collecting httpx<0.24.0,>=0.23.0\n",
            "  Downloading httpx-0.23.1-py3-none-any.whl (84 kB)\n",
            "\u001b[K     |████████████████████████████████| 84 kB 3.8 MB/s \n",
            "\u001b[?25hCollecting rfc3339<7.0,>=6.2\n",
            "  Downloading rfc3339-6.2-py3-none-any.whl (5.5 kB)\n",
            "Requirement already satisfied: certifi in /usr/local/lib/python3.8/dist-packages (from httpx<0.24.0,>=0.23.0->qcs-api-client<0.22.0,>=0.21.0->pyquil>=3.0.0->cirq-rigetti==1.0.0->cirq) (2022.9.24)\n",
            "Collecting sniffio\n",
            "  Downloading sniffio-1.3.0-py3-none-any.whl (10 kB)\n",
            "Collecting httpcore<0.17.0,>=0.15.0\n",
            "  Downloading httpcore-0.16.2-py3-none-any.whl (68 kB)\n",
            "\u001b[K     |████████████████████████████████| 68 kB 7.3 MB/s \n",
            "\u001b[?25hCollecting rfc3986[idna2008]<2,>=1.3\n",
            "  Downloading rfc3986-1.5.0-py2.py3-none-any.whl (31 kB)\n",
            "Collecting anyio<5.0,>=3.0\n",
            "  Downloading anyio-3.6.2-py3-none-any.whl (80 kB)\n",
            "\u001b[K     |████████████████████████████████| 80 kB 8.9 MB/s \n",
            "\u001b[?25hCollecting h11<0.15,>=0.13\n",
            "  Downloading h11-0.14.0-py3-none-any.whl (58 kB)\n",
            "\u001b[K     |████████████████████████████████| 58 kB 5.9 MB/s \n",
            "\u001b[?25hRequirement already satisfied: idna>=2.8 in /usr/local/lib/python3.8/dist-packages (from anyio<5.0,>=3.0->httpcore<0.17.0,>=0.15.0->httpx<0.24.0,>=0.23.0->qcs-api-client<0.22.0,>=0.21.0->pyquil>=3.0.0->cirq-rigetti==1.0.0->cirq) (2.10)\n",
            "Requirement already satisfied: urllib3!=1.25.0,!=1.25.1,<1.26,>=1.21.1 in /usr/local/lib/python3.8/dist-packages (from requests~=2.18->cirq-aqt==1.0.0->cirq) (1.24.3)\n",
            "Requirement already satisfied: chardet<4,>=3.0.2 in /usr/local/lib/python3.8/dist-packages (from requests~=2.18->cirq-aqt==1.0.0->cirq) (3.0.4)\n",
            "Requirement already satisfied: decorator>=3.4.2 in /usr/local/lib/python3.8/dist-packages (from retry<0.10.0,>=0.9.2->pyquil>=3.0.0->cirq-rigetti==1.0.0->cirq) (4.4.2)\n",
            "Requirement already satisfied: py<2.0.0,>=1.4.26 in /usr/local/lib/python3.8/dist-packages (from retry<0.10.0,>=0.9.2->pyquil>=3.0.0->cirq-rigetti==1.0.0->cirq) (1.11.0)\n",
            "Collecting msgpack<1.0,>=0.6\n",
            "  Downloading msgpack-0.6.2.tar.gz (119 kB)\n",
            "\u001b[K     |████████████████████████████████| 119 kB 48.5 MB/s \n",
            "\u001b[?25hCollecting python-rapidjson\n",
            "  Downloading python_rapidjson-1.9-cp38-cp38-manylinux_2_17_x86_64.manylinux2014_x86_64.whl (1.6 MB)\n",
            "\u001b[K     |████████████████████████████████| 1.6 MB 46.3 MB/s \n",
            "\u001b[?25hRequirement already satisfied: pyzmq>=17 in /usr/local/lib/python3.8/dist-packages (from rpcq<4.0.0,>=3.10.0->pyquil>=3.0.0->cirq-rigetti==1.0.0->cirq) (23.2.1)\n",
            "Collecting ruamel.yaml\n",
            "  Downloading ruamel.yaml-0.17.21-py3-none-any.whl (109 kB)\n",
            "\u001b[K     |████████████████████████████████| 109 kB 59.0 MB/s \n",
            "\u001b[?25hRequirement already satisfied: pytz>=2017.3 in /usr/local/lib/python3.8/dist-packages (from pandas->cirq-core==1.0.0->cirq) (2022.6)\n",
            "Collecting ruamel.yaml.clib>=0.2.6\n",
            "  Downloading ruamel.yaml.clib-0.2.7-cp38-cp38-manylinux_2_17_x86_64.manylinux2014_x86_64.manylinux_2_24_x86_64.whl (555 kB)\n",
            "\u001b[K     |████████████████████████████████| 555 kB 56.2 MB/s \n",
            "\u001b[?25hRequirement already satisfied: mpmath>=0.19 in /usr/local/lib/python3.8/dist-packages (from sympy->cirq-core==1.0.0->cirq) (1.2.1)\n",
            "Building wheels for collected packages: lark, rpcq, msgpack\n",
            "  Building wheel for lark (setup.py) ... \u001b[?25l\u001b[?25hdone\n",
            "  Created wheel for lark: filename=lark-0.11.3-py2.py3-none-any.whl size=99647 sha256=055d33a22a6c4f407e08cde3833635eaa002098013cd40110e58abed6642d365\n",
            "  Stored in directory: /root/.cache/pip/wheels/34/cb/6c/4df359c2a3f0a1af4cccae6392bee423bb5aff530103de3538\n",
            "  Building wheel for rpcq (setup.py) ... \u001b[?25l\u001b[?25hdone\n",
            "  Created wheel for rpcq: filename=rpcq-3.10.0-py3-none-any.whl size=45970 sha256=f2833628af7308d24686fa02184022dd21bfdf172dc60fe29820f6418ac3de10\n",
            "  Stored in directory: /root/.cache/pip/wheels/aa/b7/02/28316b5857a90af7715a47aeb9f8be4377a124f29cb5f3f8f7\n",
            "  Building wheel for msgpack (setup.py) ... \u001b[?25l\u001b[?25hdone\n",
            "  Created wheel for msgpack: filename=msgpack-0.6.2-cp38-cp38-linux_x86_64.whl size=250883 sha256=15e53e45a42057af48cefe497d31fa27f9f47026bfb852418ec4d34106e4ab5f\n",
            "  Stored in directory: /root/.cache/pip/wheels/5d/f2/04/0d19c10080b996bef17c908a6243e6e65d8da1a4094a3f604d\n",
            "Successfully built lark rpcq msgpack\n",
            "Installing collected packages: sniffio, rfc3986, h11, anyio, ruamel.yaml.clib, httpcore, ruamel.yaml, rfc3339, retrying, python-rapidjson, PyJWT, msgpack, iso8601, httpx, attrs, types-retry, types-python-dateutil, rpcq, retry, qcs-api-client, lark, google-api-core, duet, pyquil, cirq-core, cirq-web, cirq-rigetti, cirq-pasqal, cirq-ionq, cirq-google, cirq-aqt, cirq\n",
            "  Attempting uninstall: msgpack\n",
            "    Found existing installation: msgpack 1.0.4\n",
            "    Uninstalling msgpack-1.0.4:\n",
            "      Successfully uninstalled msgpack-1.0.4\n",
            "  Attempting uninstall: attrs\n",
            "    Found existing installation: attrs 22.1.0\n",
            "    Uninstalling attrs-22.1.0:\n",
            "      Successfully uninstalled attrs-22.1.0\n",
            "  Attempting uninstall: google-api-core\n",
            "    Found existing installation: google-api-core 2.8.2\n",
            "    Uninstalling google-api-core-2.8.2:\n",
            "      Successfully uninstalled google-api-core-2.8.2\n",
            "Successfully installed PyJWT-2.6.0 anyio-3.6.2 attrs-20.3.0 cirq-1.0.0 cirq-aqt-1.0.0 cirq-core-1.0.0 cirq-google-1.0.0 cirq-ionq-1.0.0 cirq-pasqal-1.0.0 cirq-rigetti-1.0.0 cirq-web-1.0.0 duet-0.2.7 google-api-core-1.34.0 h11-0.14.0 httpcore-0.16.2 httpx-0.23.1 iso8601-1.1.0 lark-0.11.3 msgpack-0.6.2 pyquil-3.3.2 python-rapidjson-1.9 qcs-api-client-0.21.2 retry-0.9.2 retrying-1.3.4 rfc3339-6.2 rfc3986-1.5.0 rpcq-3.10.0 ruamel.yaml-0.17.21 ruamel.yaml.clib-0.2.7 sniffio-1.3.0 types-python-dateutil-2.8.19.4 types-retry-0.9.9\n"
          ]
        },
        {
          "output_type": "display_data",
          "data": {
            "application/vnd.colab-display-data+json": {
              "pip_warning": {
                "packages": [
                  "google"
                ]
              }
            }
          },
          "metadata": {}
        }
      ],
      "source": [
        "!pip install cirq"
      ]
    },
    {
      "cell_type": "markdown",
      "source": [
        "# Import Packages"
      ],
      "metadata": {
        "id": "8a7VEAOuIKv3"
      }
    },
    {
      "cell_type": "code",
      "source": [
        "import cirq\n",
        "import numpy as np\n",
        "\n",
        "print('cirq version',cirq.__version__)\n",
        "print('numpy version',np.__version__)"
      ],
      "metadata": {
        "colab": {
          "base_uri": "https://localhost:8080/"
        },
        "id": "yX_2c26IH0WI",
        "outputId": "ac1ed74e-0b06-4490-cacf-f96c457652f9"
      },
      "execution_count": 2,
      "outputs": [
        {
          "output_type": "stream",
          "name": "stdout",
          "text": [
            "cirq version 1.0.0\n",
            "numpy version 1.21.6\n"
          ]
        }
      ]
    },
    {
      "cell_type": "markdown",
      "source": [
        "# Quantum Fourier Transform"
      ],
      "metadata": {
        "id": "3zAKQjGKIBsY"
      }
    },
    {
      "cell_type": "code",
      "source": [
        "## This code is cloned from the work done in https://github.com/Apress/quantum-machine-learning-python/blob/main/Chapter_4/listing4_1/quantum_fourier_transform.py \n",
        "class QFT:\n",
        "    \"\"\"\n",
        "    Quantum Fourier Transform\n",
        "    Builds the QFT circuit iteratively \n",
        "    \"\"\"\n",
        "\n",
        "    def __init__(self, signal_length=16,\n",
        "                 basis_to_transform='',\n",
        "                 validate_inverse_fourier=False,\n",
        "                 qubits=None):\n",
        "        \n",
        "        self.signal_length = signal_length\n",
        "        self.basis_to_transform = basis_to_transform\n",
        "        \n",
        "        if qubits is None:\n",
        "            self.num_qubits = int(np.log2(signal_length))\n",
        "            self.qubits = [cirq.LineQubit(i) for i in range(self.num_qubits)]\n",
        "        else:\n",
        "            self.qubits = qubits\n",
        "            self.num_qubits = len(self.qubits)\n",
        "\n",
        "        self.qubit_index = 0\n",
        "        self.input_circuit = cirq.Circuit()\n",
        "\n",
        "        self.validate_inverse_fourier = validate_inverse_fourier\n",
        "        self.circuit = cirq.Circuit()\n",
        "        # if self.validate_inverse_fourier:\n",
        "        self.inv_circuit = cirq.Circuit()\n",
        "\n",
        "        for k, q_s in enumerate(self.basis_to_transform):\n",
        "            if int(q_s) == 1:\n",
        "                # Change the qubit state from 0 to 1 \n",
        "                self.input_circuit.append(cirq.X(self.qubits[k]))\n",
        "\n",
        "    def qft_circuit_iter(self):\n",
        "\n",
        "        if self.qubit_index > 0:\n",
        "            # Apply the rotations on the prior qubits\n",
        "            # conditioned on the current qubit\n",
        "            for j in range(self.qubit_index):\n",
        "                diff = self.qubit_index - j + 1\n",
        "                rotation_to_apply = 2.0 / (2.0 ** diff)\n",
        "                self.circuit.append(cirq.CZ(self.qubits[self.qubit_index],\n",
        "                                            self.qubits[j]) ** rotation_to_apply)\n",
        "        # Apply the Hadamard Transform \n",
        "        # on current qubit\n",
        "        self.circuit.append(cirq.H(self.qubits[self.qubit_index]))\n",
        "        # set up the processing for next qubit\n",
        "        self.qubit_index += 1\n",
        "\n",
        "    def qft_circuit(self):\n",
        "\n",
        "        while self.qubit_index < self.num_qubits:\n",
        "            self.qft_circuit_iter()\n",
        "            # See the progression of the Circuit built\n",
        "            print(f\"Circuit after processing Qubit: {self.qubit_index - 1} \")\n",
        "            print(self.circuit)\n",
        "        # Swap the qubits to match qft definititon\n",
        "        self.swap_qubits()\n",
        "        print(\"Circuit after qubit state swap:\")\n",
        "        print(self.circuit)\n",
        "        # Create the inverse Fourier Transform Circuit\n",
        "        self.inv_circuit = cirq.inverse(self.circuit.copy())\n",
        "\n",
        "    def swap_qubits(self):\n",
        "        for i in range(self.num_qubits // 2):\n",
        "            self.circuit.append(cirq.SWAP(self.qubits[i], self.qubits[self.num_qubits - i - 1]))\n",
        "\n",
        "    def simulate_circuit(self):\n",
        "        sim = cirq.Simulator()\n",
        "        result = sim.simulate(self.circuit)\n",
        "        return result"
      ],
      "metadata": {
        "id": "sRsZ3kuSIFRZ"
      },
      "execution_count": 3,
      "outputs": []
    },
    {
      "cell_type": "code",
      "source": [],
      "metadata": {
        "id": "DRs2dDo4ITig"
      },
      "execution_count": null,
      "outputs": []
    },
    {
      "cell_type": "markdown",
      "source": [
        "# Quantum Phase Estimation"
      ],
      "metadata": {
        "id": "DfmL5koEIUaf"
      }
    },
    {
      "cell_type": "code",
      "source": [
        "class QPE:\n",
        "    \n",
        "    def __init__(self, num_input_state_qubits=3,\n",
        "                 num_ancillia_qubits=5,\n",
        "                 unitary_transform=None,\n",
        "                 U=None,\n",
        "                 input_state=None):\n",
        "\n",
        "        # Số qubits của thanh ghi đầu tiên như mình đề cập ở trên\n",
        "        self.num_ancillia_qubits = num_ancillia_qubits\n",
        "        \n",
        "        # khởi tạo qubits có giá trị bằng |0> ở thanh ghi thứ nhất\n",
        "        self.output_qubits = [cirq.LineQubit(i) for i in range(self.num_ancillia_qubits)]\n",
        "        \n",
        "        # Khởi tạo cấu trúc mạch cho thuật toán. \n",
        "        # Về sau các phép biến đổi sẽ được thêm vào bằng circuit.append()\n",
        "        self.input_circuit = cirq.Circuit()\n",
        "\n",
        "        # véc-tơ riêng |\\psi> đầu vào\n",
        "        self.input_state =  input_state\n",
        "        \n",
        "        if self.input_state is not None:\n",
        "            self.num_input_qubits = len(self.input_state)\n",
        "        else:\n",
        "            self.num_input_qubits = num_input_state_qubits\n",
        "        \n",
        "        # khởi tạo qubits để mã hóa véc-tơ |\\psi> đầu vào\n",
        "        self.input_qubits = [cirq.LineQubit(i) for i in\n",
        "                             range(self.num_ancillia_qubits,\n",
        "                                   self.num_ancillia_qubits + num_input_state_qubits)]\n",
        "\n",
        "        # Mã hóa |\\psi> theo các giá trị của input_state\n",
        "        if self.input_state is not None:\n",
        "            for i, c in enumerate(self.input_state):\n",
        "                if int(c) == 1:\n",
        "                    self.input_circuit.append(cirq.X(self.input_qubits[i]))\n",
        "        \n",
        "        # Ma trận đơn nhất U đầu vào.\n",
        "        # Ở đây mọi người có thể tùy ý chọn một ma trận đơn nhất bất kỳ cho tham số U,\n",
        "        # ngoài ra ở đây mình đưa ra một vài ví dụ cho U: cổng Identity, X, và Z.\n",
        "        self.unitary_transform = unitary_transform\n",
        "        if self.unitary_transform is None:\n",
        "            self.U = cirq.I\n",
        "        elif self.unitary_transform == 'custom':\n",
        "            self.U = U\n",
        "        elif self.unitary_transform == 'Z':\n",
        "            self.U = cirq.CZ\n",
        "        elif self.unitary_transform == 'X':\n",
        "            self.U = cirq.CX\n",
        "        else:\n",
        "            raise NotImplementedError(f\"self.unitary transform not Implemented\")\n",
        "\n",
        "        self.circuit = cirq.Circuit()\n",
        "        \n",
        "    \n",
        "    def phase_1_create_circuit_iter(self):\n",
        "        # Triển khai Bước 1 và Bước 2 như mình đã đề cập ở trên\n",
        "        # Bước 1: Các ancilla qubits bị theo đổi theo cổng Hadamard (cirq.H)\n",
        "        # Bước 2: Áp dụng phép biến đổi C-U^{2^m} trên input_qubits và bị ràng buộc bới các output_qubits     \n",
        "        for i in range(self.num_ancillia_qubits):\n",
        "            self.circuit.append(cirq.H(self.output_qubits[i]))\n",
        "            _pow_ = 2**(self.num_ancillia_qubits - 1 - i)\n",
        "            #_pow_ = 2 ** (i)\n",
        "            for k in range(self.num_input_qubits):\n",
        "                print(self.U)\n",
        "                self.circuit.append(self.U(self.output_qubits[i], self.input_qubits[k])**_pow_)\n",
        "        \n",
        "        \n",
        "    def inv_qft(self):\n",
        "      # Phép nghịch đảo của thuật toán QFT.\n",
        "      # Mình sẽ lấy code của bài trước, mọi người có thể xem qua ở https://github.com/qmlvietnam/CodeforBlog/blob/main/QFT.ipynb\n",
        "      # để đọc rõ hơn các tính nghịch đảo của QFT. \n",
        "        self._qft_ = QFT(qubits=self.output_qubits)\n",
        "        self._qft_.qft_circuit()\n",
        "\n",
        "\n",
        "    def simulate_circuit(self,circ):\n",
        "      # Chạy mô phỏng máy tính lượng tử cho thuật toán\n",
        "        sim = cirq.Simulator()\n",
        "        result = sim.simulate(circ)\n",
        "        return result"
      ],
      "metadata": {
        "id": "CCJxpF64IXfX"
      },
      "execution_count": 4,
      "outputs": []
    },
    {
      "cell_type": "code",
      "source": [],
      "metadata": {
        "id": "vpbXrZHcIbNM"
      },
      "execution_count": null,
      "outputs": []
    },
    {
      "cell_type": "markdown",
      "source": [
        "# Simulation"
      ],
      "metadata": {
        "id": "Uvs4agt8IgGQ"
      }
    },
    {
      "cell_type": "code",
      "source": [
        "num_input_state_qubits=1\n",
        "num_ancillia_qubits=2\n",
        "unitary_transform='Z'\n",
        "U=None\n",
        "input_state='1'\n",
        "\n",
        "_QP_ = QPE(num_ancillia_qubits=num_ancillia_qubits,\n",
        "                                    num_input_state_qubits=num_input_state_qubits,\n",
        "                                    unitary_transform=unitary_transform,\n",
        "                                    input_state=input_state)\n",
        "_QP_.phase_1_create_circuit_iter()\n",
        "\n",
        "_QP_.inv_qft()\n",
        "\n",
        "circuit = _QP_.circuit  + _QP_._qft_.inv_circuit\n",
        "if len(_QP_.input_circuit) > 0:\n",
        "    circuit = _QP_.input_circuit + circuit\n",
        "\n",
        "print(circuit)\n",
        "result = _QP_.simulate_circuit(circuit)\n",
        "print(result)"
      ],
      "metadata": {
        "colab": {
          "base_uri": "https://localhost:8080/"
        },
        "id": "TBTZfN8pIho2",
        "outputId": "de6cffaf-7f46-4620-d9cf-63404667af9d"
      },
      "execution_count": 5,
      "outputs": [
        {
          "output_type": "stream",
          "name": "stdout",
          "text": [
            "CZ\n",
            "CZ\n",
            "Circuit after processing Qubit: 0 \n",
            "0: ───H───\n",
            "Circuit after processing Qubit: 1 \n",
            "0: ───H───@───────────\n",
            "          │\n",
            "1: ───────@^0.5───H───\n",
            "Circuit after qubit state swap:\n",
            "0: ───H───@───────────×───\n",
            "          │           │\n",
            "1: ───────@^0.5───H───×───\n",
            "0: ───────H───@─────────×───────@────────H───\n",
            "              │         │       │\n",
            "1: ───────H───┼─────@───×───H───@^-0.5───────\n",
            "              │     │\n",
            "2: ───X───────@^0───@────────────────────────\n",
            "measurements: (no measurements)\n",
            "\n",
            "qubits: (cirq.LineQubit(0), cirq.LineQubit(1), cirq.LineQubit(2))\n",
            "output vector: |101⟩\n",
            "\n",
            "phase:\n",
            "output vector: |⟩\n"
          ]
        }
      ]
    },
    {
      "cell_type": "code",
      "source": [],
      "metadata": {
        "id": "K5j8gOlwIqxs"
      },
      "execution_count": null,
      "outputs": []
    }
  ]
}