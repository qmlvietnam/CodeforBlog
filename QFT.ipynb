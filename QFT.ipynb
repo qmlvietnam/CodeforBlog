{
  "nbformat": 4,
  "nbformat_minor": 0,
  "metadata": {
    "colab": {
      "provenance": []
    },
    "kernelspec": {
      "name": "python3",
      "display_name": "Python 3"
    },
    "language_info": {
      "name": "python"
    }
  },
  "cells": [
    {
      "cell_type": "markdown",
      "source": [
        "# Installation"
      ],
      "metadata": {
        "id": "wQ1KtbfmQueV"
      }
    },
    {
      "cell_type": "code",
      "execution_count": 1,
      "metadata": {
        "colab": {
          "base_uri": "https://localhost:8080/",
          "height": 1000
        },
        "id": "9D4gAReFQKRs",
        "outputId": "81035c6d-382a-48db-b08d-3a0609111d5e"
      },
      "outputs": [
        {
          "output_type": "stream",
          "name": "stdout",
          "text": [
            "Looking in indexes: https://pypi.org/simple, https://us-python.pkg.dev/colab-wheels/public/simple/\n",
            "Requirement already satisfied: pip in /usr/local/lib/python3.8/dist-packages (21.1.3)\n",
            "Collecting pip\n",
            "  Downloading pip-22.3.1-py3-none-any.whl (2.1 MB)\n",
            "\u001b[K     |████████████████████████████████| 2.1 MB 5.1 MB/s \n",
            "\u001b[?25hInstalling collected packages: pip\n",
            "  Attempting uninstall: pip\n",
            "    Found existing installation: pip 21.1.3\n",
            "    Uninstalling pip-21.1.3:\n",
            "      Successfully uninstalled pip-21.1.3\n",
            "Successfully installed pip-22.3.1\n",
            "Looking in indexes: https://pypi.org/simple, https://us-python.pkg.dev/colab-wheels/public/simple/\n",
            "Collecting cirq\n",
            "  Downloading cirq-1.0.0-py3-none-any.whl (7.8 kB)\n",
            "Collecting cirq-pasqal==1.0.0\n",
            "  Downloading cirq_pasqal-1.0.0-py3-none-any.whl (31 kB)\n",
            "Collecting cirq-ionq==1.0.0\n",
            "  Downloading cirq_ionq-1.0.0-py3-none-any.whl (57 kB)\n",
            "\u001b[2K     \u001b[90m━━━━━━━━━━━━━━━━━━━━━━━━━━━━━━━━━━━━━━━━\u001b[0m \u001b[32m57.1/57.1 kB\u001b[0m \u001b[31m5.8 MB/s\u001b[0m eta \u001b[36m0:00:00\u001b[0m\n",
            "\u001b[?25hCollecting cirq-web==1.0.0\n",
            "  Downloading cirq_web-1.0.0-py3-none-any.whl (594 kB)\n",
            "\u001b[2K     \u001b[90m━━━━━━━━━━━━━━━━━━━━━━━━━━━━━━━━━━━━━━\u001b[0m \u001b[32m594.2/594.2 kB\u001b[0m \u001b[31m18.3 MB/s\u001b[0m eta \u001b[36m0:00:00\u001b[0m\n",
            "\u001b[?25hCollecting cirq-rigetti==1.0.0\n",
            "  Downloading cirq_rigetti-1.0.0-py3-none-any.whl (66 kB)\n",
            "\u001b[2K     \u001b[90m━━━━━━━━━━━━━━━━━━━━━━━━━━━━━━━━━━━━━━━━\u001b[0m \u001b[32m66.5/66.5 kB\u001b[0m \u001b[31m5.1 MB/s\u001b[0m eta \u001b[36m0:00:00\u001b[0m\n",
            "\u001b[?25hCollecting cirq-google==1.0.0\n",
            "  Downloading cirq_google-1.0.0-py3-none-any.whl (576 kB)\n",
            "\u001b[2K     \u001b[90m━━━━━━━━━━━━━━━━━━━━━━━━━━━━━━━━━━━━━━\u001b[0m \u001b[32m576.5/576.5 kB\u001b[0m \u001b[31m38.4 MB/s\u001b[0m eta \u001b[36m0:00:00\u001b[0m\n",
            "\u001b[?25hCollecting cirq-core==1.0.0\n",
            "  Downloading cirq_core-1.0.0-py3-none-any.whl (1.8 MB)\n",
            "\u001b[2K     \u001b[90m━━━━━━━━━━━━━━━━━━━━━━━━━━━━━━━━━━━━━━━━\u001b[0m \u001b[32m1.8/1.8 MB\u001b[0m \u001b[31m53.5 MB/s\u001b[0m eta \u001b[36m0:00:00\u001b[0m\n",
            "\u001b[?25hCollecting cirq-aqt==1.0.0\n",
            "  Downloading cirq_aqt-1.0.0-py3-none-any.whl (27 kB)\n",
            "Requirement already satisfied: requests~=2.18 in /usr/local/lib/python3.8/dist-packages (from cirq-aqt==1.0.0->cirq) (2.23.0)\n",
            "Requirement already satisfied: matplotlib~=3.0 in /usr/local/lib/python3.8/dist-packages (from cirq-core==1.0.0->cirq) (3.2.2)\n",
            "Collecting duet~=0.2.7\n",
            "  Downloading duet-0.2.7-py3-none-any.whl (28 kB)\n",
            "Requirement already satisfied: typing-extensions in /usr/local/lib/python3.8/dist-packages (from cirq-core==1.0.0->cirq) (4.4.0)\n",
            "Requirement already satisfied: numpy~=1.16 in /usr/local/lib/python3.8/dist-packages (from cirq-core==1.0.0->cirq) (1.21.6)\n",
            "Requirement already satisfied: scipy in /usr/local/lib/python3.8/dist-packages (from cirq-core==1.0.0->cirq) (1.7.3)\n",
            "Requirement already satisfied: pandas in /usr/local/lib/python3.8/dist-packages (from cirq-core==1.0.0->cirq) (1.3.5)\n",
            "Requirement already satisfied: sortedcontainers~=2.0 in /usr/local/lib/python3.8/dist-packages (from cirq-core==1.0.0->cirq) (2.4.0)\n",
            "Requirement already satisfied: sympy in /usr/local/lib/python3.8/dist-packages (from cirq-core==1.0.0->cirq) (1.7.1)\n",
            "Requirement already satisfied: tqdm in /usr/local/lib/python3.8/dist-packages (from cirq-core==1.0.0->cirq) (4.64.1)\n",
            "Requirement already satisfied: networkx~=2.4 in /usr/local/lib/python3.8/dist-packages (from cirq-core==1.0.0->cirq) (2.8.8)\n",
            "Collecting google-api-core[grpc]<2.0.0dev,>=1.14.0\n",
            "  Downloading google_api_core-1.34.0-py3-none-any.whl (120 kB)\n",
            "\u001b[2K     \u001b[90m━━━━━━━━━━━━━━━━━━━━━━━━━━━━━━━━━━━━━━\u001b[0m \u001b[32m120.2/120.2 kB\u001b[0m \u001b[31m12.0 MB/s\u001b[0m eta \u001b[36m0:00:00\u001b[0m\n",
            "\u001b[?25hRequirement already satisfied: proto-plus>=1.20.0 in /usr/local/lib/python3.8/dist-packages (from cirq-google==1.0.0->cirq) (1.22.1)\n",
            "Requirement already satisfied: protobuf<4,>=3.15.0 in /usr/local/lib/python3.8/dist-packages (from cirq-google==1.0.0->cirq) (3.19.6)\n",
            "Collecting pyquil>=3.0.0\n",
            "  Downloading pyquil-3.3.2-py3-none-any.whl (221 kB)\n",
            "\u001b[2K     \u001b[90m━━━━━━━━━━━━━━━━━━━━━━━━━━━━━━━━━━━━━━\u001b[0m \u001b[32m221.4/221.4 kB\u001b[0m \u001b[31m18.4 MB/s\u001b[0m eta \u001b[36m0:00:00\u001b[0m\n",
            "\u001b[?25hRequirement already satisfied: googleapis-common-protos<2.0dev,>=1.56.2 in /usr/local/lib/python3.8/dist-packages (from google-api-core[grpc]<2.0.0dev,>=1.14.0->cirq-google==1.0.0->cirq) (1.57.0)\n",
            "Requirement already satisfied: google-auth<3.0dev,>=1.25.0 in /usr/local/lib/python3.8/dist-packages (from google-api-core[grpc]<2.0.0dev,>=1.14.0->cirq-google==1.0.0->cirq) (2.15.0)\n",
            "Requirement already satisfied: grpcio<2.0dev,>=1.33.2 in /usr/local/lib/python3.8/dist-packages (from google-api-core[grpc]<2.0.0dev,>=1.14.0->cirq-google==1.0.0->cirq) (1.51.1)\n",
            "Requirement already satisfied: grpcio-status<2.0dev,>=1.33.2 in /usr/local/lib/python3.8/dist-packages (from google-api-core[grpc]<2.0.0dev,>=1.14.0->cirq-google==1.0.0->cirq) (1.48.2)\n",
            "Requirement already satisfied: python-dateutil>=2.1 in /usr/local/lib/python3.8/dist-packages (from matplotlib~=3.0->cirq-core==1.0.0->cirq) (2.8.2)\n",
            "Requirement already satisfied: cycler>=0.10 in /usr/local/lib/python3.8/dist-packages (from matplotlib~=3.0->cirq-core==1.0.0->cirq) (0.11.0)\n",
            "Requirement already satisfied: kiwisolver>=1.0.1 in /usr/local/lib/python3.8/dist-packages (from matplotlib~=3.0->cirq-core==1.0.0->cirq) (1.4.4)\n",
            "Requirement already satisfied: pyparsing!=2.0.4,!=2.1.2,!=2.1.6,>=2.0.1 in /usr/local/lib/python3.8/dist-packages (from matplotlib~=3.0->cirq-core==1.0.0->cirq) (3.0.9)\n",
            "Collecting retry<0.10.0,>=0.9.2\n",
            "  Downloading retry-0.9.2-py2.py3-none-any.whl (8.0 kB)\n",
            "Collecting qcs-api-client<0.22.0,>=0.21.0\n",
            "  Downloading qcs_api_client-0.21.2-py3-none-any.whl (147 kB)\n",
            "\u001b[2K     \u001b[90m━━━━━━━━━━━━━━━━━━━━━━━━━━━━━━━━━━━━━━\u001b[0m \u001b[32m147.4/147.4 kB\u001b[0m \u001b[31m13.2 MB/s\u001b[0m eta \u001b[36m0:00:00\u001b[0m\n",
            "\u001b[?25hCollecting types-retry<0.10.0,>=0.9.9\n",
            "  Downloading types_retry-0.9.9-py3-none-any.whl (2.4 kB)\n",
            "Collecting types-python-dateutil<3.0.0,>=2.8.19\n",
            "  Downloading types_python_dateutil-2.8.19.4-py3-none-any.whl (8.2 kB)\n",
            "Collecting lark<0.12.0,>=0.11.1\n",
            "  Downloading lark-0.11.3.tar.gz (229 kB)\n",
            "\u001b[2K     \u001b[90m━━━━━━━━━━━━━━━━━━━━━━━━━━━━━━━━━━━━━━\u001b[0m \u001b[32m229.9/229.9 kB\u001b[0m \u001b[31m18.9 MB/s\u001b[0m eta \u001b[36m0:00:00\u001b[0m\n",
            "\u001b[?25h  Preparing metadata (setup.py) ... \u001b[?25l\u001b[?25hdone\n",
            "Collecting rpcq<4.0.0,>=3.10.0\n",
            "  Downloading rpcq-3.10.0.tar.gz (44 kB)\n",
            "\u001b[2K     \u001b[90m━━━━━━━━━━━━━━━━━━━━━━━━━━━━━━━━━━━━━━━━\u001b[0m \u001b[32m44.7/44.7 kB\u001b[0m \u001b[31m4.6 MB/s\u001b[0m eta \u001b[36m0:00:00\u001b[0m\n",
            "\u001b[?25h  Preparing metadata (setup.py) ... \u001b[?25l\u001b[?25hdone\n",
            "Requirement already satisfied: chardet<4,>=3.0.2 in /usr/local/lib/python3.8/dist-packages (from requests~=2.18->cirq-aqt==1.0.0->cirq) (3.0.4)\n",
            "Requirement already satisfied: idna<3,>=2.5 in /usr/local/lib/python3.8/dist-packages (from requests~=2.18->cirq-aqt==1.0.0->cirq) (2.10)\n",
            "Requirement already satisfied: urllib3!=1.25.0,!=1.25.1,<1.26,>=1.21.1 in /usr/local/lib/python3.8/dist-packages (from requests~=2.18->cirq-aqt==1.0.0->cirq) (1.24.3)\n",
            "Requirement already satisfied: certifi>=2017.4.17 in /usr/local/lib/python3.8/dist-packages (from requests~=2.18->cirq-aqt==1.0.0->cirq) (2022.9.24)\n",
            "Requirement already satisfied: pytz>=2017.3 in /usr/local/lib/python3.8/dist-packages (from pandas->cirq-core==1.0.0->cirq) (2022.6)\n",
            "Requirement already satisfied: mpmath>=0.19 in /usr/local/lib/python3.8/dist-packages (from sympy->cirq-core==1.0.0->cirq) (1.2.1)\n",
            "Requirement already satisfied: cachetools<6.0,>=2.0.0 in /usr/local/lib/python3.8/dist-packages (from google-auth<3.0dev,>=1.25.0->google-api-core[grpc]<2.0.0dev,>=1.14.0->cirq-google==1.0.0->cirq) (5.2.0)\n",
            "Requirement already satisfied: rsa<5,>=3.1.4 in /usr/local/lib/python3.8/dist-packages (from google-auth<3.0dev,>=1.25.0->google-api-core[grpc]<2.0.0dev,>=1.14.0->cirq-google==1.0.0->cirq) (4.9)\n",
            "Requirement already satisfied: six>=1.9.0 in /usr/local/lib/python3.8/dist-packages (from google-auth<3.0dev,>=1.25.0->google-api-core[grpc]<2.0.0dev,>=1.14.0->cirq-google==1.0.0->cirq) (1.15.0)\n",
            "Requirement already satisfied: pyasn1-modules>=0.2.1 in /usr/local/lib/python3.8/dist-packages (from google-auth<3.0dev,>=1.25.0->google-api-core[grpc]<2.0.0dev,>=1.14.0->cirq-google==1.0.0->cirq) (0.2.8)\n",
            "Collecting PyJWT<3.0.0,>=2.4.0\n",
            "  Downloading PyJWT-2.6.0-py3-none-any.whl (20 kB)\n",
            "Collecting httpx<0.24.0,>=0.23.0\n",
            "  Downloading httpx-0.23.1-py3-none-any.whl (84 kB)\n",
            "\u001b[2K     \u001b[90m━━━━━━━━━━━━━━━━━━━━━━━━━━━━━━━━━━━━━━━━\u001b[0m \u001b[32m85.0/85.0 kB\u001b[0m \u001b[31m10.3 MB/s\u001b[0m eta \u001b[36m0:00:00\u001b[0m\n",
            "\u001b[?25hCollecting retrying<2.0.0,>=1.3.3\n",
            "  Downloading retrying-1.3.4-py3-none-any.whl (11 kB)\n",
            "Collecting rfc3339<7.0,>=6.2\n",
            "  Downloading rfc3339-6.2-py3-none-any.whl (5.5 kB)\n",
            "Requirement already satisfied: pydantic<2.0.0,>=1.7.2 in /usr/local/lib/python3.8/dist-packages (from qcs-api-client<0.22.0,>=0.21.0->pyquil>=3.0.0->cirq-rigetti==1.0.0->cirq) (1.10.2)\n",
            "Requirement already satisfied: toml<0.11.0,>=0.10.2 in /usr/local/lib/python3.8/dist-packages (from qcs-api-client<0.22.0,>=0.21.0->pyquil>=3.0.0->cirq-rigetti==1.0.0->cirq) (0.10.2)\n",
            "Collecting attrs<21.0.0,>=20.1.0\n",
            "  Downloading attrs-20.3.0-py2.py3-none-any.whl (49 kB)\n",
            "\u001b[2K     \u001b[90m━━━━━━━━━━━━━━━━━━━━━━━━━━━━━━━━━━━━━━━━\u001b[0m \u001b[32m49.3/49.3 kB\u001b[0m \u001b[31m5.6 MB/s\u001b[0m eta \u001b[36m0:00:00\u001b[0m\n",
            "\u001b[?25hCollecting iso8601<2.0.0,>=1.0.2\n",
            "  Downloading iso8601-1.1.0-py3-none-any.whl (9.9 kB)\n",
            "Requirement already satisfied: py<2.0.0,>=1.4.26 in /usr/local/lib/python3.8/dist-packages (from retry<0.10.0,>=0.9.2->pyquil>=3.0.0->cirq-rigetti==1.0.0->cirq) (1.11.0)\n",
            "Requirement already satisfied: decorator>=3.4.2 in /usr/local/lib/python3.8/dist-packages (from retry<0.10.0,>=0.9.2->pyquil>=3.0.0->cirq-rigetti==1.0.0->cirq) (4.4.2)\n",
            "Collecting msgpack<1.0,>=0.6\n",
            "  Downloading msgpack-0.6.2.tar.gz (119 kB)\n",
            "\u001b[2K     \u001b[90m━━━━━━━━━━━━━━━━━━━━━━━━━━━━━━━━━━━━━━\u001b[0m \u001b[32m119.1/119.1 kB\u001b[0m \u001b[31m10.8 MB/s\u001b[0m eta \u001b[36m0:00:00\u001b[0m\n",
            "\u001b[?25h  Preparing metadata (setup.py) ... \u001b[?25l\u001b[?25hdone\n",
            "Collecting python-rapidjson\n",
            "  Downloading python_rapidjson-1.9-cp38-cp38-manylinux_2_17_x86_64.manylinux2014_x86_64.whl (1.6 MB)\n",
            "\u001b[2K     \u001b[90m━━━━━━━━━━━━━━━━━━━━━━━━━━━━━━━━━━━━━━━━\u001b[0m \u001b[32m1.6/1.6 MB\u001b[0m \u001b[31m52.8 MB/s\u001b[0m eta \u001b[36m0:00:00\u001b[0m\n",
            "\u001b[?25hRequirement already satisfied: pyzmq>=17 in /usr/local/lib/python3.8/dist-packages (from rpcq<4.0.0,>=3.10.0->pyquil>=3.0.0->cirq-rigetti==1.0.0->cirq) (23.2.1)\n",
            "Collecting ruamel.yaml\n",
            "  Downloading ruamel.yaml-0.17.21-py3-none-any.whl (109 kB)\n",
            "\u001b[2K     \u001b[90m━━━━━━━━━━━━━━━━━━━━━━━━━━━━━━━━━━━━━━\u001b[0m \u001b[32m109.5/109.5 kB\u001b[0m \u001b[31m10.9 MB/s\u001b[0m eta \u001b[36m0:00:00\u001b[0m\n",
            "\u001b[?25hCollecting rfc3986[idna2008]<2,>=1.3\n",
            "  Downloading rfc3986-1.5.0-py2.py3-none-any.whl (31 kB)\n",
            "Collecting httpcore<0.17.0,>=0.15.0\n",
            "  Downloading httpcore-0.16.2-py3-none-any.whl (68 kB)\n",
            "\u001b[2K     \u001b[90m━━━━━━━━━━━━━━━━━━━━━━━━━━━━━━━━━━━━━━━━\u001b[0m \u001b[32m69.0/69.0 kB\u001b[0m \u001b[31m6.9 MB/s\u001b[0m eta \u001b[36m0:00:00\u001b[0m\n",
            "\u001b[?25hCollecting sniffio\n",
            "  Downloading sniffio-1.3.0-py3-none-any.whl (10 kB)\n",
            "Requirement already satisfied: pyasn1<0.5.0,>=0.4.6 in /usr/local/lib/python3.8/dist-packages (from pyasn1-modules>=0.2.1->google-auth<3.0dev,>=1.25.0->google-api-core[grpc]<2.0.0dev,>=1.14.0->cirq-google==1.0.0->cirq) (0.4.8)\n",
            "Collecting ruamel.yaml.clib>=0.2.6\n",
            "  Downloading ruamel.yaml.clib-0.2.7-cp38-cp38-manylinux_2_17_x86_64.manylinux2014_x86_64.manylinux_2_24_x86_64.whl (555 kB)\n",
            "\u001b[2K     \u001b[90m━━━━━━━━━━━━━━━━━━━━━━━━━━━━━━━━━━━━━━\u001b[0m \u001b[32m555.3/555.3 kB\u001b[0m \u001b[31m31.1 MB/s\u001b[0m eta \u001b[36m0:00:00\u001b[0m\n",
            "\u001b[?25hCollecting h11<0.15,>=0.13\n",
            "  Downloading h11-0.14.0-py3-none-any.whl (58 kB)\n",
            "\u001b[2K     \u001b[90m━━━━━━━━━━━━━━━━━━━━━━━━━━━━━━━━━━━━━━━━\u001b[0m \u001b[32m58.3/58.3 kB\u001b[0m \u001b[31m6.1 MB/s\u001b[0m eta \u001b[36m0:00:00\u001b[0m\n",
            "\u001b[?25hCollecting anyio<5.0,>=3.0\n",
            "  Downloading anyio-3.6.2-py3-none-any.whl (80 kB)\n",
            "\u001b[2K     \u001b[90m━━━━━━━━━━━━━━━━━━━━━━━━━━━━━━━━━━━━━━━━\u001b[0m \u001b[32m80.6/80.6 kB\u001b[0m \u001b[31m8.7 MB/s\u001b[0m eta \u001b[36m0:00:00\u001b[0m\n",
            "\u001b[?25hBuilding wheels for collected packages: lark, rpcq, msgpack\n",
            "  Building wheel for lark (setup.py) ... \u001b[?25l\u001b[?25hdone\n",
            "  Created wheel for lark: filename=lark-0.11.3-py2.py3-none-any.whl size=99647 sha256=c4ea8b26dd852f5e768fcccbb7602c55f627cf6e52df529deb9ea32bc9429a7b\n",
            "  Stored in directory: /root/.cache/pip/wheels/63/13/51/20a96ed0d7326f7c43f7a245c0b7bf2066f0f3296876e365a2\n",
            "  Building wheel for rpcq (setup.py) ... \u001b[?25l\u001b[?25hdone\n",
            "  Created wheel for rpcq: filename=rpcq-3.10.0-py3-none-any.whl size=45970 sha256=b58f2c0b5a95f328bcf53a8a95ea442163045e32c9f9c24807ae93fdea39fd67\n",
            "  Stored in directory: /root/.cache/pip/wheels/37/51/ec/4e415c8fa92bc9955856ff73d743ac78f65527f862af5a8b28\n",
            "  Building wheel for msgpack (setup.py) ... \u001b[?25l\u001b[?25hdone\n",
            "  Created wheel for msgpack: filename=msgpack-0.6.2-cp38-cp38-linux_x86_64.whl size=250882 sha256=07e51741ac7d59f8074aaa580d130fa178daac6340b0593767c0eb91e6819a1b\n",
            "  Stored in directory: /root/.cache/pip/wheels/79/e2/9e/2d5e9cdbf04975b2f841c19c78cb1db40622b8d6b8509a2a4b\n",
            "Successfully built lark rpcq msgpack\n",
            "Installing collected packages: types-retry, types-python-dateutil, rfc3986, rfc3339, msgpack, lark, sniffio, ruamel.yaml.clib, retrying, retry, python-rapidjson, PyJWT, iso8601, h11, duet, attrs, ruamel.yaml, anyio, rpcq, httpcore, google-api-core, cirq-core, httpx, cirq-web, cirq-pasqal, cirq-ionq, cirq-aqt, qcs-api-client, cirq-google, pyquil, cirq-rigetti, cirq\n",
            "  Attempting uninstall: msgpack\n",
            "    Found existing installation: msgpack 1.0.4\n",
            "    Uninstalling msgpack-1.0.4:\n",
            "      Successfully uninstalled msgpack-1.0.4\n",
            "  Attempting uninstall: attrs\n",
            "    Found existing installation: attrs 22.1.0\n",
            "    Uninstalling attrs-22.1.0:\n",
            "      Successfully uninstalled attrs-22.1.0\n",
            "  Attempting uninstall: google-api-core\n",
            "    Found existing installation: google-api-core 2.8.2\n",
            "    Uninstalling google-api-core-2.8.2:\n",
            "      Successfully uninstalled google-api-core-2.8.2\n",
            "Successfully installed PyJWT-2.6.0 anyio-3.6.2 attrs-20.3.0 cirq-1.0.0 cirq-aqt-1.0.0 cirq-core-1.0.0 cirq-google-1.0.0 cirq-ionq-1.0.0 cirq-pasqal-1.0.0 cirq-rigetti-1.0.0 cirq-web-1.0.0 duet-0.2.7 google-api-core-1.34.0 h11-0.14.0 httpcore-0.16.2 httpx-0.23.1 iso8601-1.1.0 lark-0.11.3 msgpack-0.6.2 pyquil-3.3.2 python-rapidjson-1.9 qcs-api-client-0.21.2 retry-0.9.2 retrying-1.3.4 rfc3339-6.2 rfc3986-1.5.0 rpcq-3.10.0 ruamel.yaml-0.17.21 ruamel.yaml.clib-0.2.7 sniffio-1.3.0 types-python-dateutil-2.8.19.4 types-retry-0.9.9\n",
            "\u001b[33mWARNING: Running pip as the 'root' user can result in broken permissions and conflicting behaviour with the system package manager. It is recommended to use a virtual environment instead: https://pip.pypa.io/warnings/venv\u001b[0m\u001b[33m\n",
            "\u001b[0m"
          ]
        },
        {
          "output_type": "display_data",
          "data": {
            "application/vnd.colab-display-data+json": {
              "pip_warning": {
                "packages": [
                  "google"
                ]
              }
            }
          },
          "metadata": {}
        }
      ],
      "source": [
        "!pip install --upgrade pip\n",
        "!pip install cirq"
      ]
    },
    {
      "cell_type": "markdown",
      "source": [
        "# Import Packages"
      ],
      "metadata": {
        "id": "oe4aE-g-RCUq"
      }
    },
    {
      "cell_type": "code",
      "source": [
        "import cirq\n",
        "import numpy as np\n",
        "\n",
        "print('cirq version',cirq.__version__)\n",
        "print('numpy version',np.__version__)\n"
      ],
      "metadata": {
        "colab": {
          "base_uri": "https://localhost:8080/"
        },
        "id": "OAktTbqmQpmT",
        "outputId": "ca1f44cb-3fb1-4de9-f567-9ffb9a105085"
      },
      "execution_count": 2,
      "outputs": [
        {
          "output_type": "stream",
          "name": "stdout",
          "text": [
            "cirq version 1.0.0\n",
            "numpy version 1.21.6\n"
          ]
        }
      ]
    },
    {
      "cell_type": "markdown",
      "source": [
        "# Quantum Fourier Transform"
      ],
      "metadata": {
        "id": "dLp1-sPFRGdi"
      }
    },
    {
      "cell_type": "code",
      "source": [
        "## This code is cloned from the work done in https://github.com/Apress/quantum-machine-learning-python/blob/main/Chapter_4/listing4_1/quantum_fourier_transform.py \n",
        "class QFT:\n",
        "    \"\"\"\n",
        "    Quantum Fourier Transform\n",
        "    Builds the QFT circuit iteratively \n",
        "    \"\"\"\n",
        "\n",
        "    def __init__(self, signal_length=16,\n",
        "                 basis_to_transform='',\n",
        "                 validate_inverse_fourier=False,\n",
        "                 qubits=None):\n",
        "        \n",
        "        self.signal_length = signal_length\n",
        "        self.basis_to_transform = basis_to_transform\n",
        "        \n",
        "        if qubits is None:\n",
        "            self.num_qubits = int(np.log2(signal_length))\n",
        "            self.qubits = [cirq.LineQubit(i) for i in range(self.num_qubits)]\n",
        "        else:\n",
        "            self.qubits = qubits\n",
        "            self.num_qubits = len(self.qubits)\n",
        "\n",
        "        self.qubit_index = 0\n",
        "        self.input_circuit = cirq.Circuit()\n",
        "\n",
        "        self.validate_inverse_fourier = validate_inverse_fourier\n",
        "        self.circuit = cirq.Circuit()\n",
        "        # if self.validate_inverse_fourier:\n",
        "        self.inv_circuit = cirq.Circuit()\n",
        "\n",
        "        for k, q_s in enumerate(self.basis_to_transform):\n",
        "            if int(q_s) == 1:\n",
        "                # Change the qubit state from 0 to 1 \n",
        "                self.input_circuit.append(cirq.X(self.qubits[k]))\n",
        "\n",
        "    def qft_circuit_iter(self):\n",
        "\n",
        "        if self.qubit_index > 0:\n",
        "            # Apply the rotations on the prior qubits\n",
        "            # conditioned on the current qubit\n",
        "            for j in range(self.qubit_index):\n",
        "                diff = self.qubit_index - j + 1\n",
        "                rotation_to_apply = 2.0 / (2.0 ** diff)\n",
        "                self.circuit.append(cirq.CZ(self.qubits[self.qubit_index],\n",
        "                                            self.qubits[j]) ** rotation_to_apply)\n",
        "        # Apply the Hadamard Transform \n",
        "        # on current qubit\n",
        "        self.circuit.append(cirq.H(self.qubits[self.qubit_index]))\n",
        "        # set up the processing for next qubit\n",
        "        self.qubit_index += 1\n",
        "\n",
        "    def qft_circuit(self):\n",
        "\n",
        "        while self.qubit_index < self.num_qubits:\n",
        "            self.qft_circuit_iter()\n",
        "            # See the progression of the Circuit built\n",
        "            print(f\"Circuit after processing Qubit: {self.qubit_index - 1} \")\n",
        "            print(self.circuit)\n",
        "        # Swap the qubits to match qft definititon\n",
        "        self.swap_qubits()\n",
        "        print(\"Circuit after qubit state swap:\")\n",
        "        print(self.circuit)\n",
        "        # Create the inverse Fourier Transform Circuit\n",
        "        self.inv_circuit = cirq.inverse(self.circuit.copy())\n",
        "\n",
        "    def swap_qubits(self):\n",
        "        for i in range(self.num_qubits // 2):\n",
        "            self.circuit.append(cirq.SWAP(self.qubits[i], self.qubits[self.num_qubits - i - 1]))\n",
        "\n",
        "    def simulate_circuit(self):\n",
        "        sim = cirq.Simulator()\n",
        "        result = sim.simulate(self.circuit)\n",
        "        return result"
      ],
      "metadata": {
        "id": "xJ2ah2R8RIkF"
      },
      "execution_count": 3,
      "outputs": []
    },
    {
      "cell_type": "markdown",
      "source": [
        "# Simulation"
      ],
      "metadata": {
        "id": "LfVMCLUYUPWN"
      }
    },
    {
      "cell_type": "code",
      "source": [
        "signal_length=16\n",
        "basis_to_transform='0000'\n",
        "validate_inverse_fourier=False\n",
        "\n",
        "# Instantiate QFT Class\n",
        "_qft_ = QFT(signal_length=signal_length,\n",
        "            basis_to_transform=basis_to_transform,\n",
        "            validate_inverse_fourier=validate_inverse_fourier)\n",
        "\n",
        "\n",
        "# Build the QFT Circuit\n",
        "_qft_.qft_circuit()\n",
        "\n",
        "# Create the input Qubit State\n",
        "\n",
        "if len(_qft_.input_circuit) > 0:\n",
        "    _qft_.circuit = _qft_.input_circuit + _qft_.circuit\n",
        "\n",
        "if _qft_.validate_inverse_fourier:\n",
        "    _qft_.circuit += _qft_.inv_circuit\n",
        "\n",
        "print(\"Combined Circuit\")\n",
        "print(_qft_.circuit)\n",
        "# Simulate the circuit\n",
        "\n",
        "output_state = _qft_.simulate_circuit()\n",
        "# Print the Results\n",
        "print(output_state)"
      ],
      "metadata": {
        "colab": {
          "base_uri": "https://localhost:8080/"
        },
        "id": "B68wUsK4UTBq",
        "outputId": "dddbf07c-4547-4f0b-8a6f-aa88b872d172"
      },
      "execution_count": 4,
      "outputs": [
        {
          "output_type": "stream",
          "name": "stdout",
          "text": [
            "Circuit after processing Qubit: 0 \n",
            "0: ───H───\n",
            "Circuit after processing Qubit: 1 \n",
            "0: ───H───@───────────\n",
            "          │\n",
            "1: ───────@^0.5───H───\n",
            "Circuit after processing Qubit: 2 \n",
            "                  ┌───────┐\n",
            "0: ───H───@─────────@─────────────────────\n",
            "          │         │\n",
            "1: ───────@^0.5────H┼─────────@───────────\n",
            "                    │         │\n",
            "2: ─────────────────@^0.25────@^0.5───H───\n",
            "                  └───────┘\n",
            "Circuit after processing Qubit: 3 \n",
            "                  ┌───────┐   ┌────────────┐   ┌───────┐\n",
            "0: ───H───@─────────@───────────────@──────────────────────────────────\n",
            "          │         │               │\n",
            "1: ───────@^0.5────H┼──────────@────┼────────────@─────────────────────\n",
            "                    │          │    │            │\n",
            "2: ─────────────────@^0.25─────@^0.5┼───────────H┼─────────@───────────\n",
            "                                    │            │         │\n",
            "3: ─────────────────────────────────@^(1/8)──────@^0.25────@^0.5───H───\n",
            "                  └───────┘   └────────────┘   └───────┘\n",
            "Circuit after qubit state swap:\n",
            "                  ┌───────┐   ┌────────────┐   ┌───────┐\n",
            "0: ───H───@─────────@───────────────@──────────────────────────────────×───\n",
            "          │         │               │                                  │\n",
            "1: ───────@^0.5────H┼──────────@────┼────────────@─────────────────×───┼───\n",
            "                    │          │    │            │                 │   │\n",
            "2: ─────────────────@^0.25─────@^0.5┼───────────H┼─────────@───────×───┼───\n",
            "                                    │            │         │           │\n",
            "3: ─────────────────────────────────@^(1/8)──────@^0.25────@^0.5───H───×───\n",
            "                  └───────┘   └────────────┘   └───────┘\n",
            "Combined Circuit\n",
            "                  ┌───────┐   ┌────────────┐   ┌───────┐\n",
            "0: ───H───@─────────@───────────────@──────────────────────────────────×───\n",
            "          │         │               │                                  │\n",
            "1: ───────@^0.5────H┼──────────@────┼────────────@─────────────────×───┼───\n",
            "                    │          │    │            │                 │   │\n",
            "2: ─────────────────@^0.25─────@^0.5┼───────────H┼─────────@───────×───┼───\n",
            "                                    │            │         │           │\n",
            "3: ─────────────────────────────────@^(1/8)──────@^0.25────@^0.5───H───×───\n",
            "                  └───────┘   └────────────┘   └───────┘\n",
            "measurements: (no measurements)\n",
            "\n",
            "qubits: (cirq.LineQubit(0), cirq.LineQubit(1), cirq.LineQubit(2), cirq.LineQubit(3))\n",
            "output vector: [0.24999997+0.j 0.24999997+0.j 0.24999997+0.j 0.24999997+0.j\n",
            " 0.24999997+0.j 0.24999997+0.j 0.24999997+0.j 0.24999997+0.j\n",
            " 0.24999997+0.j 0.24999997+0.j 0.24999997+0.j 0.24999997+0.j\n",
            " 0.24999997+0.j 0.24999997+0.j 0.24999997+0.j 0.24999997+0.j]\n",
            "\n",
            "phase:\n",
            "output vector: |⟩\n"
          ]
        }
      ]
    },
    {
      "cell_type": "code",
      "source": [],
      "metadata": {
        "id": "cqiSqP-ADn2t"
      },
      "execution_count": null,
      "outputs": []
    }
  ]
}